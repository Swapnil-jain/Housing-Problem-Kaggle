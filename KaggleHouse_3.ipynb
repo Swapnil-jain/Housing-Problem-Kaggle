{
 "cells": [
  {
   "cell_type": "code",
   "execution_count": 1,
   "id": "88760ad4-2ca9-4992-a7a4-e52940d1d6f4",
   "metadata": {},
   "outputs": [],
   "source": [
    "import pandas as pd\n",
    "from sklearn.model_selection import train_test_split\n",
    "from sklearn.ensemble import RandomForestRegressor\n",
    "from sklearn.metrics import mean_absolute_error\n",
    "from sklearn.preprocessing import OrdinalEncoder\n",
    "from sklearn.impute import SimpleImputer"
   ]
  },
  {
   "cell_type": "code",
   "execution_count": 2,
   "id": "fad10289-197f-40cc-9f87-eeec937dbbc2",
   "metadata": {},
   "outputs": [],
   "source": [
    "X_test_final=pd.read_csv(\"/Users/MacAir/Documents/DataScience/Datasets/home-data-for-ml-course/test.csv\",index_col='Id')\n",
    "traindata=pd.read_csv(\"/Users/MacAir/Documents/DataScience/Datasets/home-data-for-ml-course/train.csv\",index_col='Id')"
   ]
  },
  {
   "cell_type": "code",
   "execution_count": 3,
   "id": "dfda48de-dc44-4d92-8041-68ce1ac04ef5",
   "metadata": {},
   "outputs": [
    {
     "data": {
      "text/html": [
       "<div>\n",
       "<style scoped>\n",
       "    .dataframe tbody tr th:only-of-type {\n",
       "        vertical-align: middle;\n",
       "    }\n",
       "\n",
       "    .dataframe tbody tr th {\n",
       "        vertical-align: top;\n",
       "    }\n",
       "\n",
       "    .dataframe thead th {\n",
       "        text-align: right;\n",
       "    }\n",
       "</style>\n",
       "<table border=\"1\" class=\"dataframe\">\n",
       "  <thead>\n",
       "    <tr style=\"text-align: right;\">\n",
       "      <th></th>\n",
       "      <th>MSSubClass</th>\n",
       "      <th>MSZoning</th>\n",
       "      <th>LotFrontage</th>\n",
       "      <th>LotArea</th>\n",
       "      <th>Street</th>\n",
       "      <th>Alley</th>\n",
       "      <th>LotShape</th>\n",
       "      <th>LandContour</th>\n",
       "      <th>Utilities</th>\n",
       "      <th>LotConfig</th>\n",
       "      <th>...</th>\n",
       "      <th>ScreenPorch</th>\n",
       "      <th>PoolArea</th>\n",
       "      <th>PoolQC</th>\n",
       "      <th>Fence</th>\n",
       "      <th>MiscFeature</th>\n",
       "      <th>MiscVal</th>\n",
       "      <th>MoSold</th>\n",
       "      <th>YrSold</th>\n",
       "      <th>SaleType</th>\n",
       "      <th>SaleCondition</th>\n",
       "    </tr>\n",
       "    <tr>\n",
       "      <th>Id</th>\n",
       "      <th></th>\n",
       "      <th></th>\n",
       "      <th></th>\n",
       "      <th></th>\n",
       "      <th></th>\n",
       "      <th></th>\n",
       "      <th></th>\n",
       "      <th></th>\n",
       "      <th></th>\n",
       "      <th></th>\n",
       "      <th></th>\n",
       "      <th></th>\n",
       "      <th></th>\n",
       "      <th></th>\n",
       "      <th></th>\n",
       "      <th></th>\n",
       "      <th></th>\n",
       "      <th></th>\n",
       "      <th></th>\n",
       "      <th></th>\n",
       "      <th></th>\n",
       "    </tr>\n",
       "  </thead>\n",
       "  <tbody>\n",
       "    <tr>\n",
       "      <th>1461</th>\n",
       "      <td>20</td>\n",
       "      <td>RH</td>\n",
       "      <td>80.0</td>\n",
       "      <td>11622</td>\n",
       "      <td>Pave</td>\n",
       "      <td>NaN</td>\n",
       "      <td>Reg</td>\n",
       "      <td>Lvl</td>\n",
       "      <td>AllPub</td>\n",
       "      <td>Inside</td>\n",
       "      <td>...</td>\n",
       "      <td>120</td>\n",
       "      <td>0</td>\n",
       "      <td>NaN</td>\n",
       "      <td>MnPrv</td>\n",
       "      <td>NaN</td>\n",
       "      <td>0</td>\n",
       "      <td>6</td>\n",
       "      <td>2010</td>\n",
       "      <td>WD</td>\n",
       "      <td>Normal</td>\n",
       "    </tr>\n",
       "    <tr>\n",
       "      <th>1462</th>\n",
       "      <td>20</td>\n",
       "      <td>RL</td>\n",
       "      <td>81.0</td>\n",
       "      <td>14267</td>\n",
       "      <td>Pave</td>\n",
       "      <td>NaN</td>\n",
       "      <td>IR1</td>\n",
       "      <td>Lvl</td>\n",
       "      <td>AllPub</td>\n",
       "      <td>Corner</td>\n",
       "      <td>...</td>\n",
       "      <td>0</td>\n",
       "      <td>0</td>\n",
       "      <td>NaN</td>\n",
       "      <td>NaN</td>\n",
       "      <td>Gar2</td>\n",
       "      <td>12500</td>\n",
       "      <td>6</td>\n",
       "      <td>2010</td>\n",
       "      <td>WD</td>\n",
       "      <td>Normal</td>\n",
       "    </tr>\n",
       "    <tr>\n",
       "      <th>1463</th>\n",
       "      <td>60</td>\n",
       "      <td>RL</td>\n",
       "      <td>74.0</td>\n",
       "      <td>13830</td>\n",
       "      <td>Pave</td>\n",
       "      <td>NaN</td>\n",
       "      <td>IR1</td>\n",
       "      <td>Lvl</td>\n",
       "      <td>AllPub</td>\n",
       "      <td>Inside</td>\n",
       "      <td>...</td>\n",
       "      <td>0</td>\n",
       "      <td>0</td>\n",
       "      <td>NaN</td>\n",
       "      <td>MnPrv</td>\n",
       "      <td>NaN</td>\n",
       "      <td>0</td>\n",
       "      <td>3</td>\n",
       "      <td>2010</td>\n",
       "      <td>WD</td>\n",
       "      <td>Normal</td>\n",
       "    </tr>\n",
       "    <tr>\n",
       "      <th>1464</th>\n",
       "      <td>60</td>\n",
       "      <td>RL</td>\n",
       "      <td>78.0</td>\n",
       "      <td>9978</td>\n",
       "      <td>Pave</td>\n",
       "      <td>NaN</td>\n",
       "      <td>IR1</td>\n",
       "      <td>Lvl</td>\n",
       "      <td>AllPub</td>\n",
       "      <td>Inside</td>\n",
       "      <td>...</td>\n",
       "      <td>0</td>\n",
       "      <td>0</td>\n",
       "      <td>NaN</td>\n",
       "      <td>NaN</td>\n",
       "      <td>NaN</td>\n",
       "      <td>0</td>\n",
       "      <td>6</td>\n",
       "      <td>2010</td>\n",
       "      <td>WD</td>\n",
       "      <td>Normal</td>\n",
       "    </tr>\n",
       "    <tr>\n",
       "      <th>1465</th>\n",
       "      <td>120</td>\n",
       "      <td>RL</td>\n",
       "      <td>43.0</td>\n",
       "      <td>5005</td>\n",
       "      <td>Pave</td>\n",
       "      <td>NaN</td>\n",
       "      <td>IR1</td>\n",
       "      <td>HLS</td>\n",
       "      <td>AllPub</td>\n",
       "      <td>Inside</td>\n",
       "      <td>...</td>\n",
       "      <td>144</td>\n",
       "      <td>0</td>\n",
       "      <td>NaN</td>\n",
       "      <td>NaN</td>\n",
       "      <td>NaN</td>\n",
       "      <td>0</td>\n",
       "      <td>1</td>\n",
       "      <td>2010</td>\n",
       "      <td>WD</td>\n",
       "      <td>Normal</td>\n",
       "    </tr>\n",
       "  </tbody>\n",
       "</table>\n",
       "<p>5 rows × 79 columns</p>\n",
       "</div>"
      ],
      "text/plain": [
       "      MSSubClass MSZoning  LotFrontage  LotArea Street Alley LotShape  \\\n",
       "Id                                                                      \n",
       "1461          20       RH         80.0    11622   Pave   NaN      Reg   \n",
       "1462          20       RL         81.0    14267   Pave   NaN      IR1   \n",
       "1463          60       RL         74.0    13830   Pave   NaN      IR1   \n",
       "1464          60       RL         78.0     9978   Pave   NaN      IR1   \n",
       "1465         120       RL         43.0     5005   Pave   NaN      IR1   \n",
       "\n",
       "     LandContour Utilities LotConfig  ... ScreenPorch PoolArea PoolQC  Fence  \\\n",
       "Id                                    ...                                      \n",
       "1461         Lvl    AllPub    Inside  ...         120        0    NaN  MnPrv   \n",
       "1462         Lvl    AllPub    Corner  ...           0        0    NaN    NaN   \n",
       "1463         Lvl    AllPub    Inside  ...           0        0    NaN  MnPrv   \n",
       "1464         Lvl    AllPub    Inside  ...           0        0    NaN    NaN   \n",
       "1465         HLS    AllPub    Inside  ...         144        0    NaN    NaN   \n",
       "\n",
       "     MiscFeature MiscVal  MoSold  YrSold  SaleType  SaleCondition  \n",
       "Id                                                                 \n",
       "1461         NaN       0       6    2010        WD         Normal  \n",
       "1462        Gar2   12500       6    2010        WD         Normal  \n",
       "1463         NaN       0       3    2010        WD         Normal  \n",
       "1464         NaN       0       6    2010        WD         Normal  \n",
       "1465         NaN       0       1    2010        WD         Normal  \n",
       "\n",
       "[5 rows x 79 columns]"
      ]
     },
     "execution_count": 3,
     "metadata": {},
     "output_type": "execute_result"
    }
   ],
   "source": [
    "X_test_final.head()"
   ]
  },
  {
   "cell_type": "code",
   "execution_count": 4,
   "id": "a52635ce-5900-49eb-ac56-7260568cfb94",
   "metadata": {},
   "outputs": [],
   "source": [
    "y=traindata[\"SalePrice\"]\n",
    "X=traindata.drop(\"SalePrice\", axis=1)"
   ]
  },
  {
   "cell_type": "code",
   "execution_count": 5,
   "id": "b1e188a4-42b2-4a99-9035-856a2b7ee32d",
   "metadata": {},
   "outputs": [
    {
     "data": {
      "text/html": [
       "<div>\n",
       "<style scoped>\n",
       "    .dataframe tbody tr th:only-of-type {\n",
       "        vertical-align: middle;\n",
       "    }\n",
       "\n",
       "    .dataframe tbody tr th {\n",
       "        vertical-align: top;\n",
       "    }\n",
       "\n",
       "    .dataframe thead th {\n",
       "        text-align: right;\n",
       "    }\n",
       "</style>\n",
       "<table border=\"1\" class=\"dataframe\">\n",
       "  <thead>\n",
       "    <tr style=\"text-align: right;\">\n",
       "      <th></th>\n",
       "      <th>MSSubClass</th>\n",
       "      <th>MSZoning</th>\n",
       "      <th>LotFrontage</th>\n",
       "      <th>LotArea</th>\n",
       "      <th>Street</th>\n",
       "      <th>Alley</th>\n",
       "      <th>LotShape</th>\n",
       "      <th>LandContour</th>\n",
       "      <th>Utilities</th>\n",
       "      <th>LotConfig</th>\n",
       "      <th>...</th>\n",
       "      <th>ScreenPorch</th>\n",
       "      <th>PoolArea</th>\n",
       "      <th>PoolQC</th>\n",
       "      <th>Fence</th>\n",
       "      <th>MiscFeature</th>\n",
       "      <th>MiscVal</th>\n",
       "      <th>MoSold</th>\n",
       "      <th>YrSold</th>\n",
       "      <th>SaleType</th>\n",
       "      <th>SaleCondition</th>\n",
       "    </tr>\n",
       "    <tr>\n",
       "      <th>Id</th>\n",
       "      <th></th>\n",
       "      <th></th>\n",
       "      <th></th>\n",
       "      <th></th>\n",
       "      <th></th>\n",
       "      <th></th>\n",
       "      <th></th>\n",
       "      <th></th>\n",
       "      <th></th>\n",
       "      <th></th>\n",
       "      <th></th>\n",
       "      <th></th>\n",
       "      <th></th>\n",
       "      <th></th>\n",
       "      <th></th>\n",
       "      <th></th>\n",
       "      <th></th>\n",
       "      <th></th>\n",
       "      <th></th>\n",
       "      <th></th>\n",
       "      <th></th>\n",
       "    </tr>\n",
       "  </thead>\n",
       "  <tbody>\n",
       "    <tr>\n",
       "      <th>1</th>\n",
       "      <td>60</td>\n",
       "      <td>RL</td>\n",
       "      <td>65.0</td>\n",
       "      <td>8450</td>\n",
       "      <td>Pave</td>\n",
       "      <td>NaN</td>\n",
       "      <td>Reg</td>\n",
       "      <td>Lvl</td>\n",
       "      <td>AllPub</td>\n",
       "      <td>Inside</td>\n",
       "      <td>...</td>\n",
       "      <td>0</td>\n",
       "      <td>0</td>\n",
       "      <td>NaN</td>\n",
       "      <td>NaN</td>\n",
       "      <td>NaN</td>\n",
       "      <td>0</td>\n",
       "      <td>2</td>\n",
       "      <td>2008</td>\n",
       "      <td>WD</td>\n",
       "      <td>Normal</td>\n",
       "    </tr>\n",
       "    <tr>\n",
       "      <th>2</th>\n",
       "      <td>20</td>\n",
       "      <td>RL</td>\n",
       "      <td>80.0</td>\n",
       "      <td>9600</td>\n",
       "      <td>Pave</td>\n",
       "      <td>NaN</td>\n",
       "      <td>Reg</td>\n",
       "      <td>Lvl</td>\n",
       "      <td>AllPub</td>\n",
       "      <td>FR2</td>\n",
       "      <td>...</td>\n",
       "      <td>0</td>\n",
       "      <td>0</td>\n",
       "      <td>NaN</td>\n",
       "      <td>NaN</td>\n",
       "      <td>NaN</td>\n",
       "      <td>0</td>\n",
       "      <td>5</td>\n",
       "      <td>2007</td>\n",
       "      <td>WD</td>\n",
       "      <td>Normal</td>\n",
       "    </tr>\n",
       "    <tr>\n",
       "      <th>3</th>\n",
       "      <td>60</td>\n",
       "      <td>RL</td>\n",
       "      <td>68.0</td>\n",
       "      <td>11250</td>\n",
       "      <td>Pave</td>\n",
       "      <td>NaN</td>\n",
       "      <td>IR1</td>\n",
       "      <td>Lvl</td>\n",
       "      <td>AllPub</td>\n",
       "      <td>Inside</td>\n",
       "      <td>...</td>\n",
       "      <td>0</td>\n",
       "      <td>0</td>\n",
       "      <td>NaN</td>\n",
       "      <td>NaN</td>\n",
       "      <td>NaN</td>\n",
       "      <td>0</td>\n",
       "      <td>9</td>\n",
       "      <td>2008</td>\n",
       "      <td>WD</td>\n",
       "      <td>Normal</td>\n",
       "    </tr>\n",
       "    <tr>\n",
       "      <th>4</th>\n",
       "      <td>70</td>\n",
       "      <td>RL</td>\n",
       "      <td>60.0</td>\n",
       "      <td>9550</td>\n",
       "      <td>Pave</td>\n",
       "      <td>NaN</td>\n",
       "      <td>IR1</td>\n",
       "      <td>Lvl</td>\n",
       "      <td>AllPub</td>\n",
       "      <td>Corner</td>\n",
       "      <td>...</td>\n",
       "      <td>0</td>\n",
       "      <td>0</td>\n",
       "      <td>NaN</td>\n",
       "      <td>NaN</td>\n",
       "      <td>NaN</td>\n",
       "      <td>0</td>\n",
       "      <td>2</td>\n",
       "      <td>2006</td>\n",
       "      <td>WD</td>\n",
       "      <td>Abnorml</td>\n",
       "    </tr>\n",
       "    <tr>\n",
       "      <th>5</th>\n",
       "      <td>60</td>\n",
       "      <td>RL</td>\n",
       "      <td>84.0</td>\n",
       "      <td>14260</td>\n",
       "      <td>Pave</td>\n",
       "      <td>NaN</td>\n",
       "      <td>IR1</td>\n",
       "      <td>Lvl</td>\n",
       "      <td>AllPub</td>\n",
       "      <td>FR2</td>\n",
       "      <td>...</td>\n",
       "      <td>0</td>\n",
       "      <td>0</td>\n",
       "      <td>NaN</td>\n",
       "      <td>NaN</td>\n",
       "      <td>NaN</td>\n",
       "      <td>0</td>\n",
       "      <td>12</td>\n",
       "      <td>2008</td>\n",
       "      <td>WD</td>\n",
       "      <td>Normal</td>\n",
       "    </tr>\n",
       "  </tbody>\n",
       "</table>\n",
       "<p>5 rows × 79 columns</p>\n",
       "</div>"
      ],
      "text/plain": [
       "    MSSubClass MSZoning  LotFrontage  LotArea Street Alley LotShape  \\\n",
       "Id                                                                    \n",
       "1           60       RL         65.0     8450   Pave   NaN      Reg   \n",
       "2           20       RL         80.0     9600   Pave   NaN      Reg   \n",
       "3           60       RL         68.0    11250   Pave   NaN      IR1   \n",
       "4           70       RL         60.0     9550   Pave   NaN      IR1   \n",
       "5           60       RL         84.0    14260   Pave   NaN      IR1   \n",
       "\n",
       "   LandContour Utilities LotConfig  ... ScreenPorch PoolArea PoolQC Fence  \\\n",
       "Id                                  ...                                     \n",
       "1          Lvl    AllPub    Inside  ...           0        0    NaN   NaN   \n",
       "2          Lvl    AllPub       FR2  ...           0        0    NaN   NaN   \n",
       "3          Lvl    AllPub    Inside  ...           0        0    NaN   NaN   \n",
       "4          Lvl    AllPub    Corner  ...           0        0    NaN   NaN   \n",
       "5          Lvl    AllPub       FR2  ...           0        0    NaN   NaN   \n",
       "\n",
       "   MiscFeature MiscVal  MoSold  YrSold  SaleType  SaleCondition  \n",
       "Id                                                               \n",
       "1          NaN       0       2    2008        WD         Normal  \n",
       "2          NaN       0       5    2007        WD         Normal  \n",
       "3          NaN       0       9    2008        WD         Normal  \n",
       "4          NaN       0       2    2006        WD        Abnorml  \n",
       "5          NaN       0      12    2008        WD         Normal  \n",
       "\n",
       "[5 rows x 79 columns]"
      ]
     },
     "execution_count": 5,
     "metadata": {},
     "output_type": "execute_result"
    }
   ],
   "source": [
    "X.head()"
   ]
  },
  {
   "cell_type": "code",
   "execution_count": 6,
   "id": "f2114b45-372a-47d6-88d4-909979b48302",
   "metadata": {},
   "outputs": [
    {
     "data": {
      "text/plain": [
       "0"
      ]
     },
     "execution_count": 6,
     "metadata": {},
     "output_type": "execute_result"
    }
   ],
   "source": [
    "y.isnull().sum()"
   ]
  },
  {
   "cell_type": "code",
   "execution_count": 7,
   "id": "5ec26703-1e48-405f-b667-d87b2d36df3c",
   "metadata": {},
   "outputs": [
    {
     "name": "stdout",
     "output_type": "stream",
     "text": [
      "LotFrontage      259\n",
      "Alley           1369\n",
      "MasVnrType         8\n",
      "MasVnrArea         8\n",
      "BsmtQual          37\n",
      "BsmtCond          37\n",
      "BsmtExposure      38\n",
      "BsmtFinType1      37\n",
      "BsmtFinType2      38\n",
      "Electrical         1\n",
      "FireplaceQu      690\n",
      "GarageType        81\n",
      "GarageYrBlt       81\n",
      "GarageFinish      81\n",
      "GarageQual        81\n",
      "GarageCond        81\n",
      "PoolQC          1453\n",
      "Fence           1179\n",
      "MiscFeature     1406\n",
      "dtype: int64\n"
     ]
    }
   ],
   "source": [
    "missing_vals=X.isnull().sum()\n",
    "print(missing_vals[missing_vals>0])"
   ]
  },
  {
   "cell_type": "code",
   "execution_count": 8,
   "id": "347d7efd-51f6-47c9-94e4-2431a22b6050",
   "metadata": {},
   "outputs": [],
   "source": [
    "missing_cols=[col for col in X.columns if X[col].isnull().sum()>0]"
   ]
  },
  {
   "cell_type": "code",
   "execution_count": 9,
   "id": "d755aeef-d6bf-40d6-be52-85857626aebb",
   "metadata": {},
   "outputs": [
    {
     "data": {
      "text/plain": [
       "['LotFrontage',\n",
       " 'Alley',\n",
       " 'MasVnrType',\n",
       " 'MasVnrArea',\n",
       " 'BsmtQual',\n",
       " 'BsmtCond',\n",
       " 'BsmtExposure',\n",
       " 'BsmtFinType1',\n",
       " 'BsmtFinType2',\n",
       " 'Electrical',\n",
       " 'FireplaceQu',\n",
       " 'GarageType',\n",
       " 'GarageYrBlt',\n",
       " 'GarageFinish',\n",
       " 'GarageQual',\n",
       " 'GarageCond',\n",
       " 'PoolQC',\n",
       " 'Fence',\n",
       " 'MiscFeature']"
      ]
     },
     "execution_count": 9,
     "metadata": {},
     "output_type": "execute_result"
    }
   ],
   "source": [
    "missing_cols"
   ]
  },
  {
   "cell_type": "code",
   "execution_count": 10,
   "id": "e9cac31f-4a39-4c53-846b-357866bddfa1",
   "metadata": {},
   "outputs": [],
   "source": [
    "X.drop(columns=missing_cols,inplace=True)\n",
    "X_test_final.drop(columns=missing_cols,inplace=True)"
   ]
  },
  {
   "cell_type": "code",
   "execution_count": 11,
   "id": "02cbed1e-4447-46ee-a40e-26c0d32c85d5",
   "metadata": {},
   "outputs": [
    {
     "name": "stdout",
     "output_type": "stream",
     "text": [
      "Series([], dtype: int64)\n"
     ]
    }
   ],
   "source": [
    "missing_vals=X.isnull().sum()\n",
    "print(missing_vals[missing_vals>0])"
   ]
  },
  {
   "cell_type": "markdown",
   "id": "80a9e4e5-eaca-4bba-83a8-93a3c2496c8e",
   "metadata": {},
   "source": [
    "Verified that there are no missing columns in X"
   ]
  },
  {
   "cell_type": "code",
   "execution_count": 12,
   "id": "f7a29be8-7aa5-4225-a720-383961bc8858",
   "metadata": {},
   "outputs": [
    {
     "name": "stdout",
     "output_type": "stream",
     "text": [
      "MSZoning        4\n",
      "Utilities       2\n",
      "Exterior1st     1\n",
      "Exterior2nd     1\n",
      "BsmtFinSF1      1\n",
      "BsmtFinSF2      1\n",
      "BsmtUnfSF       1\n",
      "TotalBsmtSF     1\n",
      "BsmtFullBath    2\n",
      "BsmtHalfBath    2\n",
      "KitchenQual     1\n",
      "Functional      2\n",
      "GarageCars      1\n",
      "GarageArea      1\n",
      "SaleType        1\n",
      "dtype: int64\n"
     ]
    }
   ],
   "source": [
    "missing_vals=X_test_final.isnull().sum()\n",
    "print(missing_vals[missing_vals>0])"
   ]
  },
  {
   "cell_type": "markdown",
   "id": "9d057623-a63d-4470-97f8-6261691aab9f",
   "metadata": {},
   "source": [
    "We can see there are some more missing values in columns in test data that was not there in train data."
   ]
  },
  {
   "cell_type": "code",
   "execution_count": 13,
   "id": "55f634a0-c191-43c9-aa86-4963b17870fa",
   "metadata": {},
   "outputs": [],
   "source": [
    "X_train, X_test, y_train, y_test=train_test_split(X,y,random_state=0,train_size=0.8,test_size=0.2)"
   ]
  },
  {
   "cell_type": "code",
   "execution_count": 14,
   "id": "237e4e5b-e993-43e5-ae6a-174b6fcd2691",
   "metadata": {},
   "outputs": [],
   "source": [
    "def comparer(X_train,y_train,X_test,y_test):\n",
    "    model=RandomForestRegressor(random_state=0)\n",
    "    model.fit(X_train,y_train)\n",
    "    pred=model.predict(X_test)\n",
    "    mae=mean_absolute_error(y_test,pred)\n",
    "    return mae"
   ]
  },
  {
   "cell_type": "markdown",
   "id": "d4b12b81-3dcc-411b-870d-562c833c96ff",
   "metadata": {
    "jp-MarkdownHeadingCollapsed": true,
    "tags": []
   },
   "source": [
    "## Approach 1: Drop the columns with categorical data"
   ]
  },
  {
   "cell_type": "markdown",
   "id": "a312bb19-d813-4cab-942e-290aa10368b6",
   "metadata": {},
   "source": [
    "Not the best approach, like obviously"
   ]
  },
  {
   "cell_type": "code",
   "execution_count": 15,
   "id": "d60b4bd0-9b20-4a2a-ad5c-03c44717e530",
   "metadata": {},
   "outputs": [],
   "source": [
    "cols_with_categorical=[col for col in X.columns if X[col].dtype=='object']"
   ]
  },
  {
   "cell_type": "code",
   "execution_count": 16,
   "id": "c9406dc2-fc2c-4c84-97f1-62424603ec3d",
   "metadata": {},
   "outputs": [
    {
     "data": {
      "text/plain": [
       "['MSZoning',\n",
       " 'Street',\n",
       " 'LotShape',\n",
       " 'LandContour',\n",
       " 'Utilities',\n",
       " 'LotConfig',\n",
       " 'LandSlope',\n",
       " 'Neighborhood',\n",
       " 'Condition1',\n",
       " 'Condition2',\n",
       " 'BldgType',\n",
       " 'HouseStyle',\n",
       " 'RoofStyle',\n",
       " 'RoofMatl',\n",
       " 'Exterior1st',\n",
       " 'Exterior2nd',\n",
       " 'ExterQual',\n",
       " 'ExterCond',\n",
       " 'Foundation',\n",
       " 'Heating',\n",
       " 'HeatingQC',\n",
       " 'CentralAir',\n",
       " 'KitchenQual',\n",
       " 'Functional',\n",
       " 'PavedDrive',\n",
       " 'SaleType',\n",
       " 'SaleCondition']"
      ]
     },
     "execution_count": 16,
     "metadata": {},
     "output_type": "execute_result"
    }
   ],
   "source": [
    "cols_with_categorical"
   ]
  },
  {
   "cell_type": "code",
   "execution_count": 17,
   "id": "1026578b-e94d-404c-b027-cec668c17f53",
   "metadata": {},
   "outputs": [],
   "source": [
    "X_train_a1=X_train.drop(columns=cols_with_categorical)\n",
    "X_test_a1=X_test.drop(columns=cols_with_categorical)"
   ]
  },
  {
   "cell_type": "code",
   "execution_count": 18,
   "id": "b65b047c-3a5d-4b04-8ca1-f13378f09c7e",
   "metadata": {},
   "outputs": [
    {
     "name": "stdout",
     "output_type": "stream",
     "text": [
      "17837.82570776256\n"
     ]
    }
   ],
   "source": [
    "print(comparer(X_train_a1,y_train,X_test_a1,y_test))"
   ]
  },
  {
   "cell_type": "markdown",
   "id": "cb824702-8c4b-4bbc-9ef6-19c290de71b9",
   "metadata": {
    "tags": []
   },
   "source": [
    "## Approach 2: Ordinal Encoding"
   ]
  },
  {
   "cell_type": "code",
   "execution_count": 19,
   "id": "5f3e9ce6-2069-49b9-82b1-827973691eb6",
   "metadata": {},
   "outputs": [
    {
     "data": {
      "text/plain": [
       "Id\n",
       "1       Norm\n",
       "2       Norm\n",
       "3       Norm\n",
       "4       Norm\n",
       "5       Norm\n",
       "        ... \n",
       "1456    Norm\n",
       "1457    Norm\n",
       "1458    Norm\n",
       "1459    Norm\n",
       "1460    Norm\n",
       "Name: Condition2, Length: 1460, dtype: object"
      ]
     },
     "execution_count": 19,
     "metadata": {},
     "output_type": "execute_result"
    }
   ],
   "source": [
    "X[\"Condition2\"] #let us look at this one particular column a bit more"
   ]
  },
  {
   "cell_type": "code",
   "execution_count": 20,
   "id": "79f0a17f-59f2-483c-a3aa-3f9937f2f5a7",
   "metadata": {},
   "outputs": [
    {
     "name": "stdout",
     "output_type": "stream",
     "text": [
      "Unique Values in Condition 2 column train data ['Norm' 'PosA' 'Feedr' 'PosN' 'Artery' 'RRAe']\n"
     ]
    }
   ],
   "source": [
    "print(\"Unique Values in Condition 2 column train data\",X_train[\"Condition2\"].unique())"
   ]
  },
  {
   "cell_type": "code",
   "execution_count": 21,
   "id": "e56cf973-876b-477e-a218-4358a37923ab",
   "metadata": {},
   "outputs": [
    {
     "name": "stdout",
     "output_type": "stream",
     "text": [
      "Unique Values in Condition 2 column test data ['Norm' 'RRAn' 'RRNn' 'Artery' 'Feedr' 'PosN']\n"
     ]
    }
   ],
   "source": [
    "print(\"Unique Values in Condition 2 column test data\",X_test[\"Condition2\"].unique())"
   ]
  },
  {
   "cell_type": "markdown",
   "id": "d1569598-c983-46ef-885d-9a7ca6d2c51f",
   "metadata": {},
   "source": [
    "Problem here is they have *different* categories for training and test"
   ]
  },
  {
   "cell_type": "markdown",
   "id": "3f8ca2e4-7906-4f6a-b8d4-090c0c069464",
   "metadata": {},
   "source": [
    " Notice that the 'Condition2' column in the test data contains the values 'RRAn' and 'RRNn', but these don't appear in the training data -- thus, if we try to use an ordinal encoder with scikit-learn, the code will throw an error."
   ]
  },
  {
   "cell_type": "markdown",
   "id": "1ff56d23-ea77-4a4a-89e6-d7629b786490",
   "metadata": {},
   "source": [
    "The simplest approach is to drop the problematic columns from both the train and test data"
   ]
  },
  {
   "cell_type": "code",
   "execution_count": 22,
   "id": "a8d211e2-1c92-4143-9013-20a48711ab6f",
   "metadata": {},
   "outputs": [],
   "source": [
    "cols_with_categorical=[col for col in X.columns if X[col].dtype=='object']\n",
    "bad_cols=[col for col in cols_with_categorical if (bool(set(X_test[col].unique()).difference(set(X_train[col].unique()))))]"
   ]
  },
  {
   "cell_type": "code",
   "execution_count": 23,
   "id": "199e629f-9709-4836-ac2b-6f4ea618afb6",
   "metadata": {},
   "outputs": [
    {
     "name": "stdout",
     "output_type": "stream",
     "text": [
      "Bad columns: ['Condition2', 'RoofMatl', 'Functional']\n",
      "Good Columns: ['MSZoning', 'Street', 'LotShape', 'LandContour', 'Utilities', 'LotConfig', 'LandSlope', 'Neighborhood', 'Condition1', 'BldgType', 'HouseStyle', 'RoofStyle', 'Exterior1st', 'Exterior2nd', 'ExterQual', 'ExterCond', 'Foundation', 'Heating', 'HeatingQC', 'CentralAir', 'KitchenQual', 'PavedDrive', 'SaleType', 'SaleCondition']\n"
     ]
    }
   ],
   "source": [
    "print(\"Bad columns:\",bad_cols)\n",
    "total_cols=list(cols_with_categorical)\n",
    "good_cols=[]\n",
    "for i in total_cols:\n",
    "    if i not in bad_cols:\n",
    "        good_cols.append(i)\n",
    "print(\"Good Columns:\",good_cols)"
   ]
  },
  {
   "cell_type": "markdown",
   "id": "d5ab1ba0-87b3-4700-881d-d408b9c95ca6",
   "metadata": {},
   "source": [
    "What is the drama I did above ?\n",
    "Well, my task was to get all the columns with categorial data first, and then drop all those columns\n",
    "in which the unique values of test data were not there in train data.\n",
    "\n",
    "1. I first created a list of all those columns which had object type data (in out dataset, all object type data are categorical)\n",
    "2. Next, what I did was using set operations, I made sure that there should not be any additional unique values in the test data, which is not there in train data. However, the vice versa is not true. That is there can be more unique values in the train data, cuz why not ?"
   ]
  },
  {
   "cell_type": "code",
   "execution_count": 24,
   "id": "8e9b28c2-419d-4693-a149-f66e8875f618",
   "metadata": {},
   "outputs": [],
   "source": [
    "X_train_a2=X_train.drop(columns=bad_cols,axis=1)\n",
    "X_test_a2=X_test.drop(columns=bad_cols,axis=1)"
   ]
  },
  {
   "cell_type": "code",
   "execution_count": 25,
   "id": "f3c9d860-9f86-426f-9ad0-e275b9b2ccea",
   "metadata": {},
   "outputs": [],
   "source": [
    "ordinal_encoder = OrdinalEncoder()\n",
    "X_train_a2[good_cols] = ordinal_encoder.fit_transform(X_train[good_cols])\n",
    "X_test_a2[good_cols] = ordinal_encoder.transform(X_test[good_cols])"
   ]
  },
  {
   "cell_type": "code",
   "execution_count": 26,
   "id": "c231bed0-4dcd-4d61-a77f-da11f612fc0a",
   "metadata": {},
   "outputs": [
    {
     "name": "stdout",
     "output_type": "stream",
     "text": [
      "17098.01649543379\n"
     ]
    }
   ],
   "source": [
    "print(comparer(X_train_a2,y_train,X_test_a2,y_test))"
   ]
  },
  {
   "cell_type": "markdown",
   "id": "000f1c21-43d0-4093-8cf3-323400dbf802",
   "metadata": {},
   "source": [
    "It is a little bit better than simply dropping the columns"
   ]
  },
  {
   "cell_type": "markdown",
   "id": "ae2122c3-9b50-40d9-9f51-39187fe6ecb3",
   "metadata": {
    "jp-MarkdownHeadingCollapsed": true,
    "tags": []
   },
   "source": [
    "## Approach 3: One Hot Encoding"
   ]
  },
  {
   "cell_type": "markdown",
   "id": "56c48bac-2106-4605-abf3-722d0e71a704",
   "metadata": {},
   "source": [
    "We will drop the one hot encoding for columns which have more than 10 categories"
   ]
  },
  {
   "cell_type": "code",
   "execution_count": 27,
   "id": "2d05fe8d-2939-4ab7-8a02-697be108380e",
   "metadata": {},
   "outputs": [],
   "source": [
    "low_cardinality_cols = [col for col in cols_with_categorical if X_train[col].nunique() < 10]"
   ]
  },
  {
   "cell_type": "code",
   "execution_count": 28,
   "id": "7573afb7-cf4b-48d9-818b-43df1b28d1e8",
   "metadata": {},
   "outputs": [],
   "source": [
    "high_cardinality_cols = list(set(cols_with_categorical)-set(low_cardinality_cols))"
   ]
  },
  {
   "cell_type": "code",
   "execution_count": 29,
   "id": "ec693f8a-7858-426d-9409-4046090ada5c",
   "metadata": {},
   "outputs": [
    {
     "name": "stdout",
     "output_type": "stream",
     "text": [
      "Categorical columns that will be one-hot encoded: ['MSZoning', 'Street', 'LotShape', 'LandContour', 'Utilities', 'LotConfig', 'LandSlope', 'Condition1', 'Condition2', 'BldgType', 'HouseStyle', 'RoofStyle', 'RoofMatl', 'ExterQual', 'ExterCond', 'Foundation', 'Heating', 'HeatingQC', 'CentralAir', 'KitchenQual', 'Functional', 'PavedDrive', 'SaleType', 'SaleCondition']\n",
      "\n",
      "Categorical columns that will be dropped from the dataset: ['Neighborhood', 'Exterior1st', 'Exterior2nd']\n"
     ]
    }
   ],
   "source": [
    "print('Categorical columns that will be one-hot encoded:', low_cardinality_cols)\n",
    "print('\\nCategorical columns that will be dropped from the dataset:', high_cardinality_cols)"
   ]
  },
  {
   "cell_type": "markdown",
   "id": "fd420a5a-fb26-45b9-b0dc-531aba945628",
   "metadata": {},
   "source": [
    "### Now we will do the actual one hot encoding"
   ]
  },
  {
   "cell_type": "code",
   "execution_count": 30,
   "id": "69fd3059-731e-43a0-bbfa-f1c305f40146",
   "metadata": {},
   "outputs": [],
   "source": [
    "from sklearn.preprocessing import OneHotEncoder\n",
    "\n",
    "OH_encoder = OneHotEncoder(handle_unknown='ignore', sparse=False)\n",
    "OH_cols_train = pd.DataFrame(OH_encoder.fit_transform(X_train[low_cardinality_cols]))\n",
    "OH_cols_test = pd.DataFrame(OH_encoder.transform(X_test[low_cardinality_cols]))\n",
    "\n",
    "# One-hot encoding removed index; put it back\n",
    "OH_cols_train.index = X_train.index\n",
    "OH_cols_test.index = X_test.index\n",
    "\n",
    "#The column names were integers, converting them back to string, else it gives warning message\n",
    "OH_cols_train.columns=OH_cols_train.columns.astype(str)\n",
    "OH_cols_test.columns=OH_cols_test.columns.astype(str)\n",
    "\n",
    "# Remove categorical columns (will replace with one-hot encoding)\n",
    "num_X_train = X_train.drop(cols_with_categorical, axis=1)\n",
    "num_X_test = X_test.drop(cols_with_categorical, axis=1)\n",
    "\n",
    "# Add one-hot encoded columns to numerical features\n",
    "OH_X_train = pd.concat([num_X_train, OH_cols_train], axis=1)\n",
    "OH_X_test = pd.concat([num_X_test, OH_cols_test], axis=1)"
   ]
  },
  {
   "cell_type": "code",
   "execution_count": 31,
   "id": "ccc2e1e1-58f2-4dc0-a7e3-cb34948e17ff",
   "metadata": {},
   "outputs": [
    {
     "name": "stdout",
     "output_type": "stream",
     "text": [
      "17525.345719178084\n"
     ]
    }
   ],
   "source": [
    "print(comparer(OH_X_train,y_train,OH_X_test,y_test))"
   ]
  },
  {
   "cell_type": "markdown",
   "id": "178ed8ff-b31c-4ead-85c1-2ce65617333d",
   "metadata": {},
   "source": [
    "## Hence, approach 2 is best in this case. Lets do the final thingy"
   ]
  },
  {
   "cell_type": "code",
   "execution_count": 32,
   "id": "a5afebf2-95df-4c91-880b-515e097172aa",
   "metadata": {},
   "outputs": [],
   "source": [
    "X.drop(columns=bad_cols,axis=1,inplace=True)\n",
    "X_test_final.drop(columns=bad_cols,axis=1,inplace=True)"
   ]
  },
  {
   "cell_type": "code",
   "execution_count": 33,
   "id": "0c6e4fe3-8afb-4fef-8acc-c5671f356396",
   "metadata": {},
   "outputs": [],
   "source": [
    "X[good_cols] = ordinal_encoder.fit_transform(X[good_cols])\n",
    "X_test_final[good_cols] = ordinal_encoder.fit_transform(X_test_final[good_cols])"
   ]
  },
  {
   "cell_type": "code",
   "execution_count": 34,
   "id": "f8d0e0a7-1e21-4d1e-9f40-17384441d3b5",
   "metadata": {},
   "outputs": [],
   "source": [
    "my_imputer=SimpleImputer(strategy=\"most_frequent\")\n",
    "#Most frequent was chosen because the test dataset has both string and numeric missing data.\n",
    "\n",
    "X_test_final1=pd.DataFrame(my_imputer.fit_transform(X_test_final))\n",
    "X_test_final1.columns=X_test_final.columns"
   ]
  },
  {
   "cell_type": "markdown",
   "id": "7fbcba17-7412-4e28-b5af-777dce8eb50f",
   "metadata": {},
   "source": [
    "Remember how the testing dataset had couple of missing values. This will solve that."
   ]
  },
  {
   "cell_type": "code",
   "execution_count": 35,
   "id": "3f0d5eab-739a-4707-9393-6ea715f4be03",
   "metadata": {},
   "outputs": [],
   "source": [
    "finalmodel=RandomForestRegressor(random_state=0)\n",
    "finalmodel.fit(X,y)\n",
    "predictions=finalmodel.predict(X_test_final1)"
   ]
  },
  {
   "cell_type": "code",
   "execution_count": 36,
   "id": "c8dbdb2b-70f1-498a-915b-23690b0e97d5",
   "metadata": {},
   "outputs": [],
   "source": [
    "output=pd.DataFrame({\"Id\": X_test_final.index,\"SalePrice\": predictions})\n",
    "output.to_csv('submission_house_kaggle_3.csv', index=False)"
   ]
  }
 ],
 "metadata": {
  "kernelspec": {
   "display_name": "Python 3.9 (tensorflow)",
   "language": "python",
   "name": "tensorflow"
  },
  "language_info": {
   "codemirror_mode": {
    "name": "ipython",
    "version": 3
   },
   "file_extension": ".py",
   "mimetype": "text/x-python",
   "name": "python",
   "nbconvert_exporter": "python",
   "pygments_lexer": "ipython3",
   "version": "3.9.12"
  }
 },
 "nbformat": 4,
 "nbformat_minor": 5
}
