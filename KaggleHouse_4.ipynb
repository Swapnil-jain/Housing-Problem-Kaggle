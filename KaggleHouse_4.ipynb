{
 "cells": [
  {
   "cell_type": "code",
   "execution_count": 1,
   "id": "55e9d46c-49c9-4216-90d7-5cebddf4f68f",
   "metadata": {},
   "outputs": [],
   "source": [
    "import pandas as pd\n",
    "import numpy as np\n",
    "from sklearn.model_selection import train_test_split\n",
    "from xgboost import XGBRegressor\n",
    "from sklearn.metrics import mean_absolute_error\n",
    "from sklearn.preprocessing import OrdinalEncoder\n",
    "from sklearn.impute import SimpleImputer\n",
    "from sklearn.compose import ColumnTransformer\n",
    "from sklearn.pipeline import Pipeline\n",
    "from sklearn.preprocessing import MinMaxScaler\n",
    "from sklearn.preprocessing import StandardScaler\n",
    "from sklearn.feature_selection import SelectKBest,chi2"
   ]
  },
  {
   "cell_type": "code",
   "execution_count": 2,
   "id": "b343b206-0e9e-4645-b721-36eb26f0d2c0",
   "metadata": {},
   "outputs": [],
   "source": [
    "X_test=pd.read_csv(\"/Users/MacAir/Documents/DataScience/Datasets/home-data-for-ml-course/test.csv\",index_col='Id')\n",
    "traindata=pd.read_csv(\"/Users/MacAir/Documents/DataScience/Datasets/home-data-for-ml-course/train.csv\",index_col='Id')"
   ]
  },
  {
   "cell_type": "code",
   "execution_count": 3,
   "id": "6eb6e17f-5e48-41ca-b554-cca0b9e493b2",
   "metadata": {},
   "outputs": [],
   "source": [
    "y=traindata[\"SalePrice\"]\n",
    "X=traindata.drop(\"SalePrice\", axis=1)"
   ]
  },
  {
   "cell_type": "code",
   "execution_count": 4,
   "id": "3abc84ab-e96f-4fb2-8017-8a87c67d2364",
   "metadata": {},
   "outputs": [
    {
     "data": {
      "text/plain": [
       "(1460, 79)"
      ]
     },
     "execution_count": 4,
     "metadata": {},
     "output_type": "execute_result"
    }
   ],
   "source": [
    "X.shape"
   ]
  },
  {
   "cell_type": "code",
   "execution_count": 5,
   "id": "85b82e27-e4ed-48d8-a62e-b9ad8c459b8f",
   "metadata": {},
   "outputs": [
    {
     "name": "stdout",
     "output_type": "stream",
     "text": [
      "36\n",
      "40\n"
     ]
    }
   ],
   "source": [
    "low_cardinality_cols = [cname for cname in X.columns if X[cname].nunique() < 10 and X[cname].dtype == \"object\"]\n",
    "numeric_cols = [cname for cname in X.columns if X[cname].dtype in ['int64', 'float64']]\n",
    "print(len(numeric_cols))\n",
    "print(len(low_cardinality_cols))\n",
    "my_cols = numeric_cols+low_cardinality_cols\n",
    "X=X[my_cols]\n",
    "X_test=X_test[my_cols]"
   ]
  },
  {
   "cell_type": "code",
   "execution_count": 6,
   "id": "14123fa2-159a-476b-8181-93ea5d846ac8",
   "metadata": {},
   "outputs": [
    {
     "data": {
      "text/plain": [
       "(1459, 76)"
      ]
     },
     "execution_count": 6,
     "metadata": {},
     "output_type": "execute_result"
    }
   ],
   "source": [
    "X_test.shape"
   ]
  },
  {
   "cell_type": "code",
   "execution_count": 7,
   "id": "be45df25-34f4-4cb1-9d51-15c4ca2d0fb7",
   "metadata": {},
   "outputs": [],
   "source": [
    "X_train,X_valid,y_train,y_valid = train_test_split(X,y,test_size=0.2,random_state=0)\n",
    "bad_cols=[col for col in low_cardinality_cols if (bool(set(X_valid[col].unique()).difference(set(X_train[col].unique()))))]\n",
    "X_train.drop(columns=bad_cols,inplace=True)\n",
    "X_valid.drop(columns=bad_cols,inplace=True)"
   ]
  },
  {
   "cell_type": "code",
   "execution_count": 8,
   "id": "3fa915c7-c06d-4636-8ebd-3e954b22ef24",
   "metadata": {},
   "outputs": [],
   "source": [
    "#Imputer\n",
    "trf1=ColumnTransformer([\n",
    "    (\"Numerical Imputer\",SimpleImputer(strategy='median'),slice(0,36)),\n",
    "    (\"Text Imputer\",SimpleImputer(strategy='most_frequent'),slice(36,76))\n",
    "],remainder='passthrough')"
   ]
  },
  {
   "cell_type": "code",
   "execution_count": 9,
   "id": "8696fd06-c53a-4754-9a34-ecd158c309fc",
   "metadata": {},
   "outputs": [],
   "source": [
    "#Encoder column\n",
    "trf2=ColumnTransformer([\n",
    "    (\"Ordinal Encoding\",OrdinalEncoder(),slice(36,76))\n",
    "],remainder='passthrough')"
   ]
  },
  {
   "cell_type": "code",
   "execution_count": 10,
   "id": "23e8bb85-f527-42c9-9050-59d34752eb5a",
   "metadata": {},
   "outputs": [],
   "source": [
    "#Scaler\n",
    "trf3 = ColumnTransformer([\n",
    "    ('scale',MinMaxScaler(),slice(0,76))\n",
    "])"
   ]
  },
  {
   "cell_type": "code",
   "execution_count": 11,
   "id": "ad726f0a-6509-4a66-91da-5a1b0fa73764",
   "metadata": {},
   "outputs": [],
   "source": [
    "# train the model\n",
    "trf4 = XGBRegressor(n_estimators=1000,learning_rate=0.05,n_jobs=8)"
   ]
  },
  {
   "cell_type": "code",
   "execution_count": 12,
   "id": "939ea215-d3c7-43f6-9242-74e2bcb4ae4f",
   "metadata": {},
   "outputs": [],
   "source": [
    "pipe = Pipeline([\n",
    "    ('trf1',trf1),\n",
    "    ('trf2',trf2),\n",
    "    ('trf3',trf3),\n",
    "    ('trf4',trf4)\n",
    "])"
   ]
  },
  {
   "cell_type": "code",
   "execution_count": 13,
   "id": "e82a397a-7e1b-4e84-9a3c-66726d9cd989",
   "metadata": {
    "tags": []
   },
   "outputs": [
    {
     "data": {
      "text/html": [
       "<style>#sk-f7a281c4-6131-4da1-bc59-52e74c4ad48c {color: black;background-color: white;}#sk-f7a281c4-6131-4da1-bc59-52e74c4ad48c pre{padding: 0;}#sk-f7a281c4-6131-4da1-bc59-52e74c4ad48c div.sk-toggleable {background-color: white;}#sk-f7a281c4-6131-4da1-bc59-52e74c4ad48c label.sk-toggleable__label {cursor: pointer;display: block;width: 100%;margin-bottom: 0;padding: 0.3em;box-sizing: border-box;text-align: center;}#sk-f7a281c4-6131-4da1-bc59-52e74c4ad48c label.sk-toggleable__label-arrow:before {content: \"▸\";float: left;margin-right: 0.25em;color: #696969;}#sk-f7a281c4-6131-4da1-bc59-52e74c4ad48c label.sk-toggleable__label-arrow:hover:before {color: black;}#sk-f7a281c4-6131-4da1-bc59-52e74c4ad48c div.sk-estimator:hover label.sk-toggleable__label-arrow:before {color: black;}#sk-f7a281c4-6131-4da1-bc59-52e74c4ad48c div.sk-toggleable__content {max-height: 0;max-width: 0;overflow: hidden;text-align: left;background-color: #f0f8ff;}#sk-f7a281c4-6131-4da1-bc59-52e74c4ad48c div.sk-toggleable__content pre {margin: 0.2em;color: black;border-radius: 0.25em;background-color: #f0f8ff;}#sk-f7a281c4-6131-4da1-bc59-52e74c4ad48c input.sk-toggleable__control:checked~div.sk-toggleable__content {max-height: 200px;max-width: 100%;overflow: auto;}#sk-f7a281c4-6131-4da1-bc59-52e74c4ad48c input.sk-toggleable__control:checked~label.sk-toggleable__label-arrow:before {content: \"▾\";}#sk-f7a281c4-6131-4da1-bc59-52e74c4ad48c div.sk-estimator input.sk-toggleable__control:checked~label.sk-toggleable__label {background-color: #d4ebff;}#sk-f7a281c4-6131-4da1-bc59-52e74c4ad48c div.sk-label input.sk-toggleable__control:checked~label.sk-toggleable__label {background-color: #d4ebff;}#sk-f7a281c4-6131-4da1-bc59-52e74c4ad48c input.sk-hidden--visually {border: 0;clip: rect(1px 1px 1px 1px);clip: rect(1px, 1px, 1px, 1px);height: 1px;margin: -1px;overflow: hidden;padding: 0;position: absolute;width: 1px;}#sk-f7a281c4-6131-4da1-bc59-52e74c4ad48c div.sk-estimator {font-family: monospace;background-color: #f0f8ff;border: 1px dotted black;border-radius: 0.25em;box-sizing: border-box;margin-bottom: 0.5em;}#sk-f7a281c4-6131-4da1-bc59-52e74c4ad48c div.sk-estimator:hover {background-color: #d4ebff;}#sk-f7a281c4-6131-4da1-bc59-52e74c4ad48c div.sk-parallel-item::after {content: \"\";width: 100%;border-bottom: 1px solid gray;flex-grow: 1;}#sk-f7a281c4-6131-4da1-bc59-52e74c4ad48c div.sk-label:hover label.sk-toggleable__label {background-color: #d4ebff;}#sk-f7a281c4-6131-4da1-bc59-52e74c4ad48c div.sk-serial::before {content: \"\";position: absolute;border-left: 1px solid gray;box-sizing: border-box;top: 2em;bottom: 0;left: 50%;}#sk-f7a281c4-6131-4da1-bc59-52e74c4ad48c div.sk-serial {display: flex;flex-direction: column;align-items: center;background-color: white;padding-right: 0.2em;padding-left: 0.2em;}#sk-f7a281c4-6131-4da1-bc59-52e74c4ad48c div.sk-item {z-index: 1;}#sk-f7a281c4-6131-4da1-bc59-52e74c4ad48c div.sk-parallel {display: flex;align-items: stretch;justify-content: center;background-color: white;}#sk-f7a281c4-6131-4da1-bc59-52e74c4ad48c div.sk-parallel::before {content: \"\";position: absolute;border-left: 1px solid gray;box-sizing: border-box;top: 2em;bottom: 0;left: 50%;}#sk-f7a281c4-6131-4da1-bc59-52e74c4ad48c div.sk-parallel-item {display: flex;flex-direction: column;position: relative;background-color: white;}#sk-f7a281c4-6131-4da1-bc59-52e74c4ad48c div.sk-parallel-item:first-child::after {align-self: flex-end;width: 50%;}#sk-f7a281c4-6131-4da1-bc59-52e74c4ad48c div.sk-parallel-item:last-child::after {align-self: flex-start;width: 50%;}#sk-f7a281c4-6131-4da1-bc59-52e74c4ad48c div.sk-parallel-item:only-child::after {width: 0;}#sk-f7a281c4-6131-4da1-bc59-52e74c4ad48c div.sk-dashed-wrapped {border: 1px dashed gray;margin: 0 0.4em 0.5em 0.4em;box-sizing: border-box;padding-bottom: 0.4em;background-color: white;position: relative;}#sk-f7a281c4-6131-4da1-bc59-52e74c4ad48c div.sk-label label {font-family: monospace;font-weight: bold;background-color: white;display: inline-block;line-height: 1.2em;}#sk-f7a281c4-6131-4da1-bc59-52e74c4ad48c div.sk-label-container {position: relative;z-index: 2;text-align: center;}#sk-f7a281c4-6131-4da1-bc59-52e74c4ad48c div.sk-container {/* jupyter's `normalize.less` sets `[hidden] { display: none; }` but bootstrap.min.css set `[hidden] { display: none !important; }` so we also need the `!important` here to be able to override the default hidden behavior on the sphinx rendered scikit-learn.org. See: https://github.com/scikit-learn/scikit-learn/issues/21755 */display: inline-block !important;position: relative;}#sk-f7a281c4-6131-4da1-bc59-52e74c4ad48c div.sk-text-repr-fallback {display: none;}</style><div id=\"sk-f7a281c4-6131-4da1-bc59-52e74c4ad48c\" class=\"sk-top-container\"><div class=\"sk-text-repr-fallback\"><pre>Pipeline(steps=[(&#x27;trf1&#x27;,\n",
       "                 ColumnTransformer(remainder=&#x27;passthrough&#x27;,\n",
       "                                   transformers=[(&#x27;Numerical Imputer&#x27;,\n",
       "                                                  SimpleImputer(strategy=&#x27;median&#x27;),\n",
       "                                                  slice(0, 36, None)),\n",
       "                                                 (&#x27;Text Imputer&#x27;,\n",
       "                                                  SimpleImputer(strategy=&#x27;most_frequent&#x27;),\n",
       "                                                  slice(36, 76, None))])),\n",
       "                (&#x27;trf2&#x27;,\n",
       "                 ColumnTransformer(remainder=&#x27;passthrough&#x27;,\n",
       "                                   transformers=[(&#x27;Ordinal Encoding&#x27;,\n",
       "                                                  OrdinalEncoder(),\n",
       "                                                  slice(36, 76, None))])),...\n",
       "                              gamma=0, gpu_id=-1, grow_policy=&#x27;depthwise&#x27;,\n",
       "                              importance_type=None, interaction_constraints=&#x27;&#x27;,\n",
       "                              learning_rate=0.05, max_bin=256,\n",
       "                              max_cat_to_onehot=4, max_delta_step=0,\n",
       "                              max_depth=6, max_leaves=0, min_child_weight=1,\n",
       "                              missing=nan, monotone_constraints=&#x27;()&#x27;,\n",
       "                              n_estimators=100, n_jobs=8, num_parallel_tree=1,\n",
       "                              predictor=&#x27;auto&#x27;, random_state=0, reg_alpha=0,\n",
       "                              reg_lambda=1, ...))])</pre><b>Please rerun this cell to show the HTML repr or trust the notebook.</b></div><div class=\"sk-container\" hidden><div class=\"sk-item sk-dashed-wrapped\"><div class=\"sk-label-container\"><div class=\"sk-label sk-toggleable\"><input class=\"sk-toggleable__control sk-hidden--visually\" id=\"fb060332-180c-4209-bd0f-6c5a5de82cbe\" type=\"checkbox\" ><label for=\"fb060332-180c-4209-bd0f-6c5a5de82cbe\" class=\"sk-toggleable__label sk-toggleable__label-arrow\">Pipeline</label><div class=\"sk-toggleable__content\"><pre>Pipeline(steps=[(&#x27;trf1&#x27;,\n",
       "                 ColumnTransformer(remainder=&#x27;passthrough&#x27;,\n",
       "                                   transformers=[(&#x27;Numerical Imputer&#x27;,\n",
       "                                                  SimpleImputer(strategy=&#x27;median&#x27;),\n",
       "                                                  slice(0, 36, None)),\n",
       "                                                 (&#x27;Text Imputer&#x27;,\n",
       "                                                  SimpleImputer(strategy=&#x27;most_frequent&#x27;),\n",
       "                                                  slice(36, 76, None))])),\n",
       "                (&#x27;trf2&#x27;,\n",
       "                 ColumnTransformer(remainder=&#x27;passthrough&#x27;,\n",
       "                                   transformers=[(&#x27;Ordinal Encoding&#x27;,\n",
       "                                                  OrdinalEncoder(),\n",
       "                                                  slice(36, 76, None))])),...\n",
       "                              gamma=0, gpu_id=-1, grow_policy=&#x27;depthwise&#x27;,\n",
       "                              importance_type=None, interaction_constraints=&#x27;&#x27;,\n",
       "                              learning_rate=0.05, max_bin=256,\n",
       "                              max_cat_to_onehot=4, max_delta_step=0,\n",
       "                              max_depth=6, max_leaves=0, min_child_weight=1,\n",
       "                              missing=nan, monotone_constraints=&#x27;()&#x27;,\n",
       "                              n_estimators=100, n_jobs=8, num_parallel_tree=1,\n",
       "                              predictor=&#x27;auto&#x27;, random_state=0, reg_alpha=0,\n",
       "                              reg_lambda=1, ...))])</pre></div></div></div><div class=\"sk-serial\"><div class=\"sk-item sk-dashed-wrapped\"><div class=\"sk-label-container\"><div class=\"sk-label sk-toggleable\"><input class=\"sk-toggleable__control sk-hidden--visually\" id=\"e45f3044-f3c3-471d-8239-5a3f17928775\" type=\"checkbox\" ><label for=\"e45f3044-f3c3-471d-8239-5a3f17928775\" class=\"sk-toggleable__label sk-toggleable__label-arrow\">trf1: ColumnTransformer</label><div class=\"sk-toggleable__content\"><pre>ColumnTransformer(remainder=&#x27;passthrough&#x27;,\n",
       "                  transformers=[(&#x27;Numerical Imputer&#x27;,\n",
       "                                 SimpleImputer(strategy=&#x27;median&#x27;),\n",
       "                                 slice(0, 36, None)),\n",
       "                                (&#x27;Text Imputer&#x27;,\n",
       "                                 SimpleImputer(strategy=&#x27;most_frequent&#x27;),\n",
       "                                 slice(36, 76, None))])</pre></div></div></div><div class=\"sk-parallel\"><div class=\"sk-parallel-item\"><div class=\"sk-item\"><div class=\"sk-label-container\"><div class=\"sk-label sk-toggleable\"><input class=\"sk-toggleable__control sk-hidden--visually\" id=\"e1f85c9a-4819-4135-8025-eaf0fb431a7a\" type=\"checkbox\" ><label for=\"e1f85c9a-4819-4135-8025-eaf0fb431a7a\" class=\"sk-toggleable__label sk-toggleable__label-arrow\">Numerical Imputer</label><div class=\"sk-toggleable__content\"><pre>slice(0, 36, None)</pre></div></div></div><div class=\"sk-serial\"><div class=\"sk-item\"><div class=\"sk-estimator sk-toggleable\"><input class=\"sk-toggleable__control sk-hidden--visually\" id=\"4b404a3d-7b40-4231-9f03-20fd4c0242ec\" type=\"checkbox\" ><label for=\"4b404a3d-7b40-4231-9f03-20fd4c0242ec\" class=\"sk-toggleable__label sk-toggleable__label-arrow\">SimpleImputer</label><div class=\"sk-toggleable__content\"><pre>SimpleImputer(strategy=&#x27;median&#x27;)</pre></div></div></div></div></div></div><div class=\"sk-parallel-item\"><div class=\"sk-item\"><div class=\"sk-label-container\"><div class=\"sk-label sk-toggleable\"><input class=\"sk-toggleable__control sk-hidden--visually\" id=\"de3d72a3-c804-472a-9454-dcacec3582c5\" type=\"checkbox\" ><label for=\"de3d72a3-c804-472a-9454-dcacec3582c5\" class=\"sk-toggleable__label sk-toggleable__label-arrow\">Text Imputer</label><div class=\"sk-toggleable__content\"><pre>slice(36, 76, None)</pre></div></div></div><div class=\"sk-serial\"><div class=\"sk-item\"><div class=\"sk-estimator sk-toggleable\"><input class=\"sk-toggleable__control sk-hidden--visually\" id=\"3a5c1bd4-680a-4614-9f56-b6793b7b0e33\" type=\"checkbox\" ><label for=\"3a5c1bd4-680a-4614-9f56-b6793b7b0e33\" class=\"sk-toggleable__label sk-toggleable__label-arrow\">SimpleImputer</label><div class=\"sk-toggleable__content\"><pre>SimpleImputer(strategy=&#x27;most_frequent&#x27;)</pre></div></div></div></div></div></div><div class=\"sk-parallel-item\"><div class=\"sk-item\"><div class=\"sk-label-container\"><div class=\"sk-label sk-toggleable\"><input class=\"sk-toggleable__control sk-hidden--visually\" id=\"20bb6e16-c9f4-4bb9-a06c-e0a49fd458db\" type=\"checkbox\" ><label for=\"20bb6e16-c9f4-4bb9-a06c-e0a49fd458db\" class=\"sk-toggleable__label sk-toggleable__label-arrow\">remainder</label><div class=\"sk-toggleable__content\"><pre>[]</pre></div></div></div><div class=\"sk-serial\"><div class=\"sk-item\"><div class=\"sk-estimator sk-toggleable\"><input class=\"sk-toggleable__control sk-hidden--visually\" id=\"0002f1c7-3355-4ef9-bca8-d2cc8d770513\" type=\"checkbox\" ><label for=\"0002f1c7-3355-4ef9-bca8-d2cc8d770513\" class=\"sk-toggleable__label sk-toggleable__label-arrow\">passthrough</label><div class=\"sk-toggleable__content\"><pre>passthrough</pre></div></div></div></div></div></div></div></div><div class=\"sk-item sk-dashed-wrapped\"><div class=\"sk-label-container\"><div class=\"sk-label sk-toggleable\"><input class=\"sk-toggleable__control sk-hidden--visually\" id=\"695594c8-9e2a-4e3e-8dbb-4dba052da94f\" type=\"checkbox\" ><label for=\"695594c8-9e2a-4e3e-8dbb-4dba052da94f\" class=\"sk-toggleable__label sk-toggleable__label-arrow\">trf2: ColumnTransformer</label><div class=\"sk-toggleable__content\"><pre>ColumnTransformer(remainder=&#x27;passthrough&#x27;,\n",
       "                  transformers=[(&#x27;Ordinal Encoding&#x27;, OrdinalEncoder(),\n",
       "                                 slice(36, 76, None))])</pre></div></div></div><div class=\"sk-parallel\"><div class=\"sk-parallel-item\"><div class=\"sk-item\"><div class=\"sk-label-container\"><div class=\"sk-label sk-toggleable\"><input class=\"sk-toggleable__control sk-hidden--visually\" id=\"441e8c3d-1486-46b7-8a60-20bfba1b2b27\" type=\"checkbox\" ><label for=\"441e8c3d-1486-46b7-8a60-20bfba1b2b27\" class=\"sk-toggleable__label sk-toggleable__label-arrow\">Ordinal Encoding</label><div class=\"sk-toggleable__content\"><pre>slice(36, 76, None)</pre></div></div></div><div class=\"sk-serial\"><div class=\"sk-item\"><div class=\"sk-estimator sk-toggleable\"><input class=\"sk-toggleable__control sk-hidden--visually\" id=\"f346986b-d0d3-4a1c-b40e-bf59898d7502\" type=\"checkbox\" ><label for=\"f346986b-d0d3-4a1c-b40e-bf59898d7502\" class=\"sk-toggleable__label sk-toggleable__label-arrow\">OrdinalEncoder</label><div class=\"sk-toggleable__content\"><pre>OrdinalEncoder()</pre></div></div></div></div></div></div><div class=\"sk-parallel-item\"><div class=\"sk-item\"><div class=\"sk-label-container\"><div class=\"sk-label sk-toggleable\"><input class=\"sk-toggleable__control sk-hidden--visually\" id=\"c47d508e-5129-4362-85ee-443bfc0ebc6a\" type=\"checkbox\" ><label for=\"c47d508e-5129-4362-85ee-443bfc0ebc6a\" class=\"sk-toggleable__label sk-toggleable__label-arrow\">remainder</label><div class=\"sk-toggleable__content\"><pre>[0, 1, 2, 3, 4, 5, 6, 7, 8, 9, 10, 11, 12, 13, 14, 15, 16, 17, 18, 19, 20, 21, 22, 23, 24, 25, 26, 27, 28, 29, 30, 31, 32, 33, 34, 35]</pre></div></div></div><div class=\"sk-serial\"><div class=\"sk-item\"><div class=\"sk-estimator sk-toggleable\"><input class=\"sk-toggleable__control sk-hidden--visually\" id=\"195c37e0-52dc-417c-9b9b-d93f623fa2b4\" type=\"checkbox\" ><label for=\"195c37e0-52dc-417c-9b9b-d93f623fa2b4\" class=\"sk-toggleable__label sk-toggleable__label-arrow\">passthrough</label><div class=\"sk-toggleable__content\"><pre>passthrough</pre></div></div></div></div></div></div></div></div><div class=\"sk-item sk-dashed-wrapped\"><div class=\"sk-label-container\"><div class=\"sk-label sk-toggleable\"><input class=\"sk-toggleable__control sk-hidden--visually\" id=\"ecb68bcc-6e14-4187-a56d-4139fbe9f160\" type=\"checkbox\" ><label for=\"ecb68bcc-6e14-4187-a56d-4139fbe9f160\" class=\"sk-toggleable__label sk-toggleable__label-arrow\">trf3: ColumnTransformer</label><div class=\"sk-toggleable__content\"><pre>ColumnTransformer(transformers=[(&#x27;scale&#x27;, MinMaxScaler(), slice(0, 76, None))])</pre></div></div></div><div class=\"sk-parallel\"><div class=\"sk-parallel-item\"><div class=\"sk-item\"><div class=\"sk-label-container\"><div class=\"sk-label sk-toggleable\"><input class=\"sk-toggleable__control sk-hidden--visually\" id=\"4813c2c5-7b8f-4ea6-a2c4-7fee8bd1bafc\" type=\"checkbox\" ><label for=\"4813c2c5-7b8f-4ea6-a2c4-7fee8bd1bafc\" class=\"sk-toggleable__label sk-toggleable__label-arrow\">scale</label><div class=\"sk-toggleable__content\"><pre>slice(0, 76, None)</pre></div></div></div><div class=\"sk-serial\"><div class=\"sk-item\"><div class=\"sk-estimator sk-toggleable\"><input class=\"sk-toggleable__control sk-hidden--visually\" id=\"f4199448-14ac-473b-bf8f-c2c140ba9ea0\" type=\"checkbox\" ><label for=\"f4199448-14ac-473b-bf8f-c2c140ba9ea0\" class=\"sk-toggleable__label sk-toggleable__label-arrow\">MinMaxScaler</label><div class=\"sk-toggleable__content\"><pre>MinMaxScaler()</pre></div></div></div></div></div></div></div></div><div class=\"sk-item\"><div class=\"sk-estimator sk-toggleable\"><input class=\"sk-toggleable__control sk-hidden--visually\" id=\"20448adf-4639-4c05-a596-8c77570efaf9\" type=\"checkbox\" ><label for=\"20448adf-4639-4c05-a596-8c77570efaf9\" class=\"sk-toggleable__label sk-toggleable__label-arrow\">XGBRegressor</label><div class=\"sk-toggleable__content\"><pre>XGBRegressor(base_score=0.5, booster=&#x27;gbtree&#x27;, callbacks=None,\n",
       "             colsample_bylevel=1, colsample_bynode=1, colsample_bytree=1,\n",
       "             early_stopping_rounds=None, enable_categorical=False,\n",
       "             eval_metric=None, gamma=0, gpu_id=-1, grow_policy=&#x27;depthwise&#x27;,\n",
       "             importance_type=None, interaction_constraints=&#x27;&#x27;,\n",
       "             learning_rate=0.05, max_bin=256, max_cat_to_onehot=4,\n",
       "             max_delta_step=0, max_depth=6, max_leaves=0, min_child_weight=1,\n",
       "             missing=nan, monotone_constraints=&#x27;()&#x27;, n_estimators=100, n_jobs=8,\n",
       "             num_parallel_tree=1, predictor=&#x27;auto&#x27;, random_state=0, reg_alpha=0,\n",
       "             reg_lambda=1, ...)</pre></div></div></div></div></div></div></div>"
      ],
      "text/plain": [
       "Pipeline(steps=[('trf1',\n",
       "                 ColumnTransformer(remainder='passthrough',\n",
       "                                   transformers=[('Numerical Imputer',\n",
       "                                                  SimpleImputer(strategy='median'),\n",
       "                                                  slice(0, 36, None)),\n",
       "                                                 ('Text Imputer',\n",
       "                                                  SimpleImputer(strategy='most_frequent'),\n",
       "                                                  slice(36, 76, None))])),\n",
       "                ('trf2',\n",
       "                 ColumnTransformer(remainder='passthrough',\n",
       "                                   transformers=[('Ordinal Encoding',\n",
       "                                                  OrdinalEncoder(),\n",
       "                                                  slice(36, 76, None))])),...\n",
       "                              gamma=0, gpu_id=-1, grow_policy='depthwise',\n",
       "                              importance_type=None, interaction_constraints='',\n",
       "                              learning_rate=0.05, max_bin=256,\n",
       "                              max_cat_to_onehot=4, max_delta_step=0,\n",
       "                              max_depth=6, max_leaves=0, min_child_weight=1,\n",
       "                              missing=nan, monotone_constraints='()',\n",
       "                              n_estimators=100, n_jobs=8, num_parallel_tree=1,\n",
       "                              predictor='auto', random_state=0, reg_alpha=0,\n",
       "                              reg_lambda=1, ...))])"
      ]
     },
     "execution_count": 13,
     "metadata": {},
     "output_type": "execute_result"
    }
   ],
   "source": [
    "from sklearn import set_config\n",
    "set_config(display='diagram')\n",
    "pipe.fit(X_train,y_train)#trf4__early_stopping_rounds=8, \n",
    "           # trf4__eval_set=[(X_valid, y_valid)], \n",
    "           #  trf4__verbose=False)"
   ]
  },
  {
   "cell_type": "code",
   "execution_count": 14,
   "id": "379a9c52-9b59-4f7a-8aa5-6d857caa640a",
   "metadata": {
    "collapsed": true,
    "jupyter": {
     "outputs_hidden": true
    },
    "tags": []
   },
   "outputs": [
    {
     "data": {
      "text/plain": [
       "array([219851.3  , 155607.06 , 108246.59 , 217298.   ,  89014.555,\n",
       "       104673.95 , 262147.78 , 127267.664, 643343.7  , 153219.72 ,\n",
       "       194195.78 , 143507.27 , 228586.1  , 124645.92 , 122760.55 ,\n",
       "       146808.36 , 217226.23 , 123064.35 , 136755.83 , 202734.44 ,\n",
       "       123141.02 , 141641.58 , 114191.62 , 158099.72 , 184000.39 ,\n",
       "       214187.2  , 170157.95 ,  82406.09 , 319426.16 , 112796.45 ,\n",
       "       131655.44 , 198381.98 , 141991.7  , 280757.34 , 328080.84 ,\n",
       "       186670.97 , 292156.12 , 121475.58 , 222474.88 , 305529.6  ,\n",
       "       232969.77 , 125222.08 , 184755.98 , 288385.5  , 365759.7  ,\n",
       "       139970.42 , 132063.17 , 126031.62 , 165100.03 ,  99156.12 ,\n",
       "       382575.94 , 144120.48 , 167151.14 ,  75875.016, 239970.9  ,\n",
       "       113505.445, 137754.66 , 246778.73 , 137330.81 ,  99901.66 ,\n",
       "       134423.11 , 129856.984, 142473.55 , 159033.39 , 208549.45 ,\n",
       "       140622.86 , 126971.8  , 218732.03 , 120454.32 , 188669.69 ,\n",
       "       175854.73 , 121889.22 ,  88240.51 , 229325.1  ,  92234.234,\n",
       "       265222.44 , 125517.17 , 107952.33 , 273358.38 , 160374.33 ,\n",
       "       130061.086, 128670.45 , 131743.86 , 141533.64 , 184770.48 ,\n",
       "       196245.62 , 102892.93 , 187547.   , 181570.02 , 135359.55 ,\n",
       "       188305.4  , 193307.73 , 191846.95 , 224098.58 , 199175.67 ,\n",
       "       146570.14 , 199640.77 , 188784.28 , 121663.664, 147867.9  ,\n",
       "       248430.81 , 216467.83 , 125677.664, 162940.66 , 105733.7  ,\n",
       "       275960.4  , 141840.03 , 106040.34 , 163692.44 , 119599.336,\n",
       "        92973.4  , 107214.59 , 202289.23 , 120069.36 , 164140.39 ,\n",
       "       161365.72 , 489581.75 , 127807.73 , 182888.75 , 263606.16 ,\n",
       "       154988.8  , 161217.   , 128574.555, 202051.48 , 234294.33 ,\n",
       "       227863.88 , 379020.7  , 193975.   , 194034.2  , 164658.75 ,\n",
       "       196292.03 , 192984.02 , 132330.53 , 188351.8  , 102370.77 ,\n",
       "       222407.16 , 150915.36 , 184611.2  , 108551.19 , 177367.1  ,\n",
       "       140253.38 , 136247.38 , 220178.67 , 144260.8  , 148900.11 ,\n",
       "       185949.   , 235087.95 , 140178.39 , 272740.3  , 250296.42 ,\n",
       "       164115.52 , 359655.03 , 269350.72 , 178466.2  , 186126.61 ,\n",
       "       261627.05 , 120057.36 , 214412.39 , 124980.234, 167665.48 ,\n",
       "       121103.63 , 145755.08 , 188470.47 , 117854.59 , 244119.5  ,\n",
       "       123451.086, 169028.27 , 278697.8  , 195915.36 , 165539.56 ,\n",
       "       175719.56 , 159361.28 , 181042.27 , 160693.84 , 117787.875,\n",
       "       115069.555, 135935.44 , 237502.98 , 111681.23 , 143112.05 ,\n",
       "       300233.9  , 200911.92 , 109191.52 , 304848.4  , 116952.516,\n",
       "       172535.28 ,  97534.21 , 189949.44 , 212068.75 , 138967.22 ,\n",
       "       142990.98 , 167178.84 , 203453.39 , 134203.86 , 125953.35 ,\n",
       "       145895.12 ,  85714.84 , 127617.75 , 169783.38 , 124274.73 ,\n",
       "       131278.89 , 205452.94 , 116518.28 , 123986.766, 143813.97 ,\n",
       "       170460.31 , 146786.5  , 337747.53 , 266461.28 ,  71678.37 ,\n",
       "       152117.1  , 266951.47 ,  87085.8  , 100356.86 , 370976.88 ,\n",
       "       219274.19 , 190920.5  , 257146.6  , 257415.98 ,  83893.96 ,\n",
       "       218260.95 , 147431.34 , 131199.16 , 121370.22 , 191615.5  ,\n",
       "       250094.83 , 252359.14 , 227398.47 , 136776.25 , 167331.25 ,\n",
       "        87464.36 , 157893.4  , 104985.73 , 133426.56 , 231897.9  ,\n",
       "       123223.375, 129087.5  , 120577.84 ,  84202.1  , 180587.28 ,\n",
       "       116511.17 , 195921.6  , 200578.36 , 209803.03 , 165799.64 ,\n",
       "       185386.48 , 206999.52 , 188929.48 , 135025.16 , 198283.1  ,\n",
       "       183183.3  , 267092.88 ,  91491.516, 337136.53 , 241892.84 ,\n",
       "       230258.72 , 100272.89 , 205040.   , 358339.97 , 253268.67 ,\n",
       "       182028.3  , 123479.78 , 124206.414, 105965.195, 476763.16 ,\n",
       "       332591.3  , 344837.38 ,  77545.04 , 220761.19 , 269334.28 ,\n",
       "       126491.65 , 219887.58 , 133999.1  , 180438.55 , 124423.64 ,\n",
       "       230202.23 , 217817.05 , 188178.92 , 220834.44 , 104756.53 ,\n",
       "       132997.48 , 420111.47 , 166854.98 , 144183.55 , 194098.2  ,\n",
       "       133205.38 , 118487.32 , 276021.1  , 478429.78 , 174995.83 ,\n",
       "        72916.055,  94110.15 ], dtype=float32)"
      ]
     },
     "execution_count": 14,
     "metadata": {},
     "output_type": "execute_result"
    }
   ],
   "source": [
    "y_pred = pipe.predict(X_valid)\n",
    "y_pred"
   ]
  },
  {
   "cell_type": "code",
   "execution_count": 16,
   "id": "9c81ea26-019b-4ed2-81cf-f8b409b359bc",
   "metadata": {},
   "outputs": [
    {
     "data": {
      "text/plain": [
       "16935.464415667808"
      ]
     },
     "execution_count": 16,
     "metadata": {},
     "output_type": "execute_result"
    }
   ],
   "source": [
    "from sklearn.metrics import mean_absolute_error\n",
    "mean_absolute_error(y_pred,y_valid)"
   ]
  },
  {
   "cell_type": "code",
   "execution_count": 18,
   "id": "41218b87-01fc-476f-a037-2d03f664138a",
   "metadata": {},
   "outputs": [],
   "source": [
    "params = {\n",
    "    'trf4__early_stopping_rounds':[8],\n",
    "    'trf4__eval_set':[(X_valid, y_valid)],\n",
    "    'trf4__verbose':[False]\n",
    "}"
   ]
  },
  {
   "cell_type": "code",
   "execution_count": 19,
   "id": "9270c780-e2c1-49ee-ae65-4b34e7ba3629",
   "metadata": {},
   "outputs": [
    {
     "name": "stdout",
     "output_type": "stream",
     "text": [
      "[09:12:32] WARNING: /Users/runner/work/xgboost/xgboost/python-package/build/temp.macosx-11.0-arm64-3.8/xgboost/src/learner.cc:627: \n",
      "Parameters: { \"eval_set\", \"verbose\" } might not be used.\n",
      "\n",
      "  This could be a false alarm, with some parameters getting used by language bindings but\n",
      "  then being mistakenly passed down to XGBoost core, or some parameter actually being used\n",
      "  but getting flagged wrongly here. Please open an issue if you find any such cases.\n",
      "\n",
      "\n",
      "[09:12:32] WARNING: /Users/runner/work/xgboost/xgboost/python-package/build/temp.macosx-11.0-arm64-3.8/xgboost/src/learner.cc:627: \n",
      "Parameters: { \"eval_set\", \"verbose\" } might not be used.\n",
      "\n",
      "  This could be a false alarm, with some parameters getting used by language bindings but\n",
      "  then being mistakenly passed down to XGBoost core, or some parameter actually being used\n",
      "  but getting flagged wrongly here. Please open an issue if you find any such cases.\n",
      "\n",
      "\n",
      "[09:12:32] WARNING: /Users/runner/work/xgboost/xgboost/python-package/build/temp.macosx-11.0-arm64-3.8/xgboost/src/learner.cc:627: \n",
      "Parameters: { \"eval_set\", \"verbose\" } might not be used.\n",
      "\n",
      "  This could be a false alarm, with some parameters getting used by language bindings but\n",
      "  then being mistakenly passed down to XGBoost core, or some parameter actually being used\n",
      "  but getting flagged wrongly here. Please open an issue if you find any such cases.\n",
      "\n",
      "\n",
      "[09:12:32] WARNING: /Users/runner/work/xgboost/xgboost/python-package/build/temp.macosx-11.0-arm64-3.8/xgboost/src/learner.cc:627: \n",
      "Parameters: { \"eval_set\", \"verbose\" } might not be used.\n",
      "\n",
      "  This could be a false alarm, with some parameters getting used by language bindings but\n",
      "  then being mistakenly passed down to XGBoost core, or some parameter actually being used\n",
      "  but getting flagged wrongly here. Please open an issue if you find any such cases.\n",
      "\n",
      "\n",
      "[09:12:32] WARNING: /Users/runner/work/xgboost/xgboost/python-package/build/temp.macosx-11.0-arm64-3.8/xgboost/src/learner.cc:627: \n",
      "Parameters: { \"eval_set\", \"verbose\" } might not be used.\n",
      "\n",
      "  This could be a false alarm, with some parameters getting used by language bindings but\n",
      "  then being mistakenly passed down to XGBoost core, or some parameter actually being used\n",
      "  but getting flagged wrongly here. Please open an issue if you find any such cases.\n",
      "\n",
      "\n",
      "[09:12:33] WARNING: /Users/runner/work/xgboost/xgboost/python-package/build/temp.macosx-11.0-arm64-3.8/xgboost/src/learner.cc:627: \n",
      "Parameters: { \"eval_set\", \"verbose\" } might not be used.\n",
      "\n",
      "  This could be a false alarm, with some parameters getting used by language bindings but\n",
      "  then being mistakenly passed down to XGBoost core, or some parameter actually being used\n",
      "  but getting flagged wrongly here. Please open an issue if you find any such cases.\n",
      "\n",
      "\n",
      "[09:12:33] WARNING: /Users/runner/work/xgboost/xgboost/python-package/build/temp.macosx-11.0-arm64-3.8/xgboost/src/learner.cc:627: \n",
      "Parameters: { \"eval_set\", \"verbose\" } might not be used.\n",
      "\n",
      "  This could be a false alarm, with some parameters getting used by language bindings but\n",
      "  then being mistakenly passed down to XGBoost core, or some parameter actually being used\n",
      "  but getting flagged wrongly here. Please open an issue if you find any such cases.\n",
      "\n",
      "\n",
      "[09:12:33] WARNING: /Users/runner/work/xgboost/xgboost/python-package/build/temp.macosx-11.0-arm64-3.8/xgboost/src/learner.cc:627: \n",
      "Parameters: { \"eval_set\", \"verbose\" } might not be used.\n",
      "\n",
      "  This could be a false alarm, with some parameters getting used by language bindings but\n",
      "  then being mistakenly passed down to XGBoost core, or some parameter actually being used\n",
      "  but getting flagged wrongly here. Please open an issue if you find any such cases.\n",
      "\n",
      "\n"
     ]
    },
    {
     "name": "stderr",
     "output_type": "stream",
     "text": [
      "/Users/MacAir/miniforge3/envs/tensorflow/lib/python3.9/site-packages/sklearn/model_selection/_validation.py:372: FitFailedWarning: \n",
      "8 fits failed out of a total of 8.\n",
      "The score on these train-test partitions for these parameters will be set to nan.\n",
      "If these failures are not expected, you can try to debug them by setting error_score='raise'.\n",
      "\n",
      "Below are more details about the failures:\n",
      "--------------------------------------------------------------------------------\n",
      "8 fits failed with the following error:\n",
      "Traceback (most recent call last):\n",
      "  File \"/Users/MacAir/miniforge3/envs/tensorflow/lib/python3.9/site-packages/sklearn/model_selection/_validation.py\", line 680, in _fit_and_score\n",
      "    estimator.fit(X_train, y_train, **fit_params)\n",
      "  File \"/Users/MacAir/miniforge3/envs/tensorflow/lib/python3.9/site-packages/sklearn/pipeline.py\", line 394, in fit\n",
      "    self._final_estimator.fit(Xt, y, **fit_params_last_step)\n",
      "  File \"/Users/MacAir/miniforge3/envs/tensorflow/lib/python3.9/site-packages/xgboost/core.py\", line 532, in inner_f\n",
      "    return f(**kwargs)\n",
      "  File \"/Users/MacAir/miniforge3/envs/tensorflow/lib/python3.9/site-packages/xgboost/sklearn.py\", line 961, in fit\n",
      "    self._Booster = train(\n",
      "  File \"/Users/MacAir/miniforge3/envs/tensorflow/lib/python3.9/site-packages/xgboost/core.py\", line 532, in inner_f\n",
      "    return f(**kwargs)\n",
      "  File \"/Users/MacAir/miniforge3/envs/tensorflow/lib/python3.9/site-packages/xgboost/training.py\", line 182, in train\n",
      "    if cb_container.after_iteration(bst, i, dtrain, evals):\n",
      "  File \"/Users/MacAir/miniforge3/envs/tensorflow/lib/python3.9/site-packages/xgboost/callback.py\", line 246, in after_iteration\n",
      "    ret = any(c.after_iteration(model, epoch, self.history)\n",
      "  File \"/Users/MacAir/miniforge3/envs/tensorflow/lib/python3.9/site-packages/xgboost/callback.py\", line 246, in <genexpr>\n",
      "    ret = any(c.after_iteration(model, epoch, self.history)\n",
      "  File \"/Users/MacAir/miniforge3/envs/tensorflow/lib/python3.9/site-packages/xgboost/callback.py\", line 411, in after_iteration\n",
      "    assert len(evals_log.keys()) >= 1, msg\n",
      "AssertionError: Must have at least 1 validation dataset for early stopping.\n",
      "\n",
      "  warnings.warn(some_fits_failed_message, FitFailedWarning)\n",
      "/Users/MacAir/miniforge3/envs/tensorflow/lib/python3.9/site-packages/sklearn/model_selection/_search.py:969: UserWarning: One or more of the test scores are non-finite: [nan]\n",
      "  warnings.warn(\n"
     ]
    },
    {
     "name": "stdout",
     "output_type": "stream",
     "text": [
      "[09:12:33] WARNING: /Users/runner/work/xgboost/xgboost/python-package/build/temp.macosx-11.0-arm64-3.8/xgboost/src/learner.cc:627: \n",
      "Parameters: { \"eval_set\", \"verbose\" } might not be used.\n",
      "\n",
      "  This could be a false alarm, with some parameters getting used by language bindings but\n",
      "  then being mistakenly passed down to XGBoost core, or some parameter actually being used\n",
      "  but getting flagged wrongly here. Please open an issue if you find any such cases.\n",
      "\n",
      "\n"
     ]
    },
    {
     "ename": "AssertionError",
     "evalue": "Must have at least 1 validation dataset for early stopping.",
     "output_type": "error",
     "traceback": [
      "\u001b[0;31m---------------------------------------------------------------------------\u001b[0m",
      "\u001b[0;31mAssertionError\u001b[0m                            Traceback (most recent call last)",
      "Input \u001b[0;32mIn [19]\u001b[0m, in \u001b[0;36m<cell line: 3>\u001b[0;34m()\u001b[0m\n\u001b[1;32m      1\u001b[0m \u001b[38;5;28;01mfrom\u001b[39;00m \u001b[38;5;21;01msklearn\u001b[39;00m\u001b[38;5;21;01m.\u001b[39;00m\u001b[38;5;21;01mmodel_selection\u001b[39;00m \u001b[38;5;28;01mimport\u001b[39;00m GridSearchCV\n\u001b[1;32m      2\u001b[0m grid \u001b[38;5;241m=\u001b[39m GridSearchCV(pipe, params, cv\u001b[38;5;241m=\u001b[39m\u001b[38;5;241m8\u001b[39m, scoring\u001b[38;5;241m=\u001b[39m\u001b[38;5;124m'\u001b[39m\u001b[38;5;124maccuracy\u001b[39m\u001b[38;5;124m'\u001b[39m)\n\u001b[0;32m----> 3\u001b[0m \u001b[43mgrid\u001b[49m\u001b[38;5;241;43m.\u001b[39;49m\u001b[43mfit\u001b[49m\u001b[43m(\u001b[49m\u001b[43mX_train\u001b[49m\u001b[43m,\u001b[49m\u001b[43m \u001b[49m\u001b[43my_train\u001b[49m\u001b[43m)\u001b[49m\n",
      "File \u001b[0;32m~/miniforge3/envs/tensorflow/lib/python3.9/site-packages/sklearn/model_selection/_search.py:926\u001b[0m, in \u001b[0;36mBaseSearchCV.fit\u001b[0;34m(self, X, y, groups, **fit_params)\u001b[0m\n\u001b[1;32m    924\u001b[0m refit_start_time \u001b[38;5;241m=\u001b[39m time\u001b[38;5;241m.\u001b[39mtime()\n\u001b[1;32m    925\u001b[0m \u001b[38;5;28;01mif\u001b[39;00m y \u001b[38;5;129;01mis\u001b[39;00m \u001b[38;5;129;01mnot\u001b[39;00m \u001b[38;5;28;01mNone\u001b[39;00m:\n\u001b[0;32m--> 926\u001b[0m     \u001b[38;5;28;43mself\u001b[39;49m\u001b[38;5;241;43m.\u001b[39;49m\u001b[43mbest_estimator_\u001b[49m\u001b[38;5;241;43m.\u001b[39;49m\u001b[43mfit\u001b[49m\u001b[43m(\u001b[49m\u001b[43mX\u001b[49m\u001b[43m,\u001b[49m\u001b[43m \u001b[49m\u001b[43my\u001b[49m\u001b[43m,\u001b[49m\u001b[43m \u001b[49m\u001b[38;5;241;43m*\u001b[39;49m\u001b[38;5;241;43m*\u001b[39;49m\u001b[43mfit_params\u001b[49m\u001b[43m)\u001b[49m\n\u001b[1;32m    927\u001b[0m \u001b[38;5;28;01melse\u001b[39;00m:\n\u001b[1;32m    928\u001b[0m     \u001b[38;5;28mself\u001b[39m\u001b[38;5;241m.\u001b[39mbest_estimator_\u001b[38;5;241m.\u001b[39mfit(X, \u001b[38;5;241m*\u001b[39m\u001b[38;5;241m*\u001b[39mfit_params)\n",
      "File \u001b[0;32m~/miniforge3/envs/tensorflow/lib/python3.9/site-packages/sklearn/pipeline.py:394\u001b[0m, in \u001b[0;36mPipeline.fit\u001b[0;34m(self, X, y, **fit_params)\u001b[0m\n\u001b[1;32m    392\u001b[0m     \u001b[38;5;28;01mif\u001b[39;00m \u001b[38;5;28mself\u001b[39m\u001b[38;5;241m.\u001b[39m_final_estimator \u001b[38;5;241m!=\u001b[39m \u001b[38;5;124m\"\u001b[39m\u001b[38;5;124mpassthrough\u001b[39m\u001b[38;5;124m\"\u001b[39m:\n\u001b[1;32m    393\u001b[0m         fit_params_last_step \u001b[38;5;241m=\u001b[39m fit_params_steps[\u001b[38;5;28mself\u001b[39m\u001b[38;5;241m.\u001b[39msteps[\u001b[38;5;241m-\u001b[39m\u001b[38;5;241m1\u001b[39m][\u001b[38;5;241m0\u001b[39m]]\n\u001b[0;32m--> 394\u001b[0m         \u001b[38;5;28;43mself\u001b[39;49m\u001b[38;5;241;43m.\u001b[39;49m\u001b[43m_final_estimator\u001b[49m\u001b[38;5;241;43m.\u001b[39;49m\u001b[43mfit\u001b[49m\u001b[43m(\u001b[49m\u001b[43mXt\u001b[49m\u001b[43m,\u001b[49m\u001b[43m \u001b[49m\u001b[43my\u001b[49m\u001b[43m,\u001b[49m\u001b[43m \u001b[49m\u001b[38;5;241;43m*\u001b[39;49m\u001b[38;5;241;43m*\u001b[39;49m\u001b[43mfit_params_last_step\u001b[49m\u001b[43m)\u001b[49m\n\u001b[1;32m    396\u001b[0m \u001b[38;5;28;01mreturn\u001b[39;00m \u001b[38;5;28mself\u001b[39m\n",
      "File \u001b[0;32m~/miniforge3/envs/tensorflow/lib/python3.9/site-packages/xgboost/core.py:532\u001b[0m, in \u001b[0;36m_deprecate_positional_args.<locals>.inner_f\u001b[0;34m(*args, **kwargs)\u001b[0m\n\u001b[1;32m    530\u001b[0m \u001b[38;5;28;01mfor\u001b[39;00m k, arg \u001b[38;5;129;01min\u001b[39;00m \u001b[38;5;28mzip\u001b[39m(sig\u001b[38;5;241m.\u001b[39mparameters, args):\n\u001b[1;32m    531\u001b[0m     kwargs[k] \u001b[38;5;241m=\u001b[39m arg\n\u001b[0;32m--> 532\u001b[0m \u001b[38;5;28;01mreturn\u001b[39;00m \u001b[43mf\u001b[49m\u001b[43m(\u001b[49m\u001b[38;5;241;43m*\u001b[39;49m\u001b[38;5;241;43m*\u001b[39;49m\u001b[43mkwargs\u001b[49m\u001b[43m)\u001b[49m\n",
      "File \u001b[0;32m~/miniforge3/envs/tensorflow/lib/python3.9/site-packages/xgboost/sklearn.py:961\u001b[0m, in \u001b[0;36mXGBModel.fit\u001b[0;34m(self, X, y, sample_weight, base_margin, eval_set, eval_metric, early_stopping_rounds, verbose, xgb_model, sample_weight_eval_set, base_margin_eval_set, feature_weights, callbacks)\u001b[0m\n\u001b[1;32m    956\u001b[0m     obj \u001b[38;5;241m=\u001b[39m \u001b[38;5;28;01mNone\u001b[39;00m\n\u001b[1;32m    958\u001b[0m model, metric, params, early_stopping_rounds, callbacks \u001b[38;5;241m=\u001b[39m \u001b[38;5;28mself\u001b[39m\u001b[38;5;241m.\u001b[39m_configure_fit(\n\u001b[1;32m    959\u001b[0m     xgb_model, eval_metric, params, early_stopping_rounds, callbacks\n\u001b[1;32m    960\u001b[0m )\n\u001b[0;32m--> 961\u001b[0m \u001b[38;5;28mself\u001b[39m\u001b[38;5;241m.\u001b[39m_Booster \u001b[38;5;241m=\u001b[39m \u001b[43mtrain\u001b[49m\u001b[43m(\u001b[49m\n\u001b[1;32m    962\u001b[0m \u001b[43m    \u001b[49m\u001b[43mparams\u001b[49m\u001b[43m,\u001b[49m\n\u001b[1;32m    963\u001b[0m \u001b[43m    \u001b[49m\u001b[43mtrain_dmatrix\u001b[49m\u001b[43m,\u001b[49m\n\u001b[1;32m    964\u001b[0m \u001b[43m    \u001b[49m\u001b[38;5;28;43mself\u001b[39;49m\u001b[38;5;241;43m.\u001b[39;49m\u001b[43mget_num_boosting_rounds\u001b[49m\u001b[43m(\u001b[49m\u001b[43m)\u001b[49m\u001b[43m,\u001b[49m\n\u001b[1;32m    965\u001b[0m \u001b[43m    \u001b[49m\u001b[43mevals\u001b[49m\u001b[38;5;241;43m=\u001b[39;49m\u001b[43mevals\u001b[49m\u001b[43m,\u001b[49m\n\u001b[1;32m    966\u001b[0m \u001b[43m    \u001b[49m\u001b[43mearly_stopping_rounds\u001b[49m\u001b[38;5;241;43m=\u001b[39;49m\u001b[43mearly_stopping_rounds\u001b[49m\u001b[43m,\u001b[49m\n\u001b[1;32m    967\u001b[0m \u001b[43m    \u001b[49m\u001b[43mevals_result\u001b[49m\u001b[38;5;241;43m=\u001b[39;49m\u001b[43mevals_result\u001b[49m\u001b[43m,\u001b[49m\n\u001b[1;32m    968\u001b[0m \u001b[43m    \u001b[49m\u001b[43mobj\u001b[49m\u001b[38;5;241;43m=\u001b[39;49m\u001b[43mobj\u001b[49m\u001b[43m,\u001b[49m\n\u001b[1;32m    969\u001b[0m \u001b[43m    \u001b[49m\u001b[43mcustom_metric\u001b[49m\u001b[38;5;241;43m=\u001b[39;49m\u001b[43mmetric\u001b[49m\u001b[43m,\u001b[49m\n\u001b[1;32m    970\u001b[0m \u001b[43m    \u001b[49m\u001b[43mverbose_eval\u001b[49m\u001b[38;5;241;43m=\u001b[39;49m\u001b[43mverbose\u001b[49m\u001b[43m,\u001b[49m\n\u001b[1;32m    971\u001b[0m \u001b[43m    \u001b[49m\u001b[43mxgb_model\u001b[49m\u001b[38;5;241;43m=\u001b[39;49m\u001b[43mmodel\u001b[49m\u001b[43m,\u001b[49m\n\u001b[1;32m    972\u001b[0m \u001b[43m    \u001b[49m\u001b[43mcallbacks\u001b[49m\u001b[38;5;241;43m=\u001b[39;49m\u001b[43mcallbacks\u001b[49m\u001b[43m,\u001b[49m\n\u001b[1;32m    973\u001b[0m \u001b[43m\u001b[49m\u001b[43m)\u001b[49m\n\u001b[1;32m    975\u001b[0m \u001b[38;5;28mself\u001b[39m\u001b[38;5;241m.\u001b[39m_set_evaluation_result(evals_result)\n\u001b[1;32m    976\u001b[0m \u001b[38;5;28;01mreturn\u001b[39;00m \u001b[38;5;28mself\u001b[39m\n",
      "File \u001b[0;32m~/miniforge3/envs/tensorflow/lib/python3.9/site-packages/xgboost/core.py:532\u001b[0m, in \u001b[0;36m_deprecate_positional_args.<locals>.inner_f\u001b[0;34m(*args, **kwargs)\u001b[0m\n\u001b[1;32m    530\u001b[0m \u001b[38;5;28;01mfor\u001b[39;00m k, arg \u001b[38;5;129;01min\u001b[39;00m \u001b[38;5;28mzip\u001b[39m(sig\u001b[38;5;241m.\u001b[39mparameters, args):\n\u001b[1;32m    531\u001b[0m     kwargs[k] \u001b[38;5;241m=\u001b[39m arg\n\u001b[0;32m--> 532\u001b[0m \u001b[38;5;28;01mreturn\u001b[39;00m \u001b[43mf\u001b[49m\u001b[43m(\u001b[49m\u001b[38;5;241;43m*\u001b[39;49m\u001b[38;5;241;43m*\u001b[39;49m\u001b[43mkwargs\u001b[49m\u001b[43m)\u001b[49m\n",
      "File \u001b[0;32m~/miniforge3/envs/tensorflow/lib/python3.9/site-packages/xgboost/training.py:182\u001b[0m, in \u001b[0;36mtrain\u001b[0;34m(params, dtrain, num_boost_round, evals, obj, feval, maximize, early_stopping_rounds, evals_result, verbose_eval, xgb_model, callbacks, custom_metric)\u001b[0m\n\u001b[1;32m    180\u001b[0m         \u001b[38;5;28;01mbreak\u001b[39;00m\n\u001b[1;32m    181\u001b[0m     bst\u001b[38;5;241m.\u001b[39mupdate(dtrain, i, obj)\n\u001b[0;32m--> 182\u001b[0m     \u001b[38;5;28;01mif\u001b[39;00m \u001b[43mcb_container\u001b[49m\u001b[38;5;241;43m.\u001b[39;49m\u001b[43mafter_iteration\u001b[49m\u001b[43m(\u001b[49m\u001b[43mbst\u001b[49m\u001b[43m,\u001b[49m\u001b[43m \u001b[49m\u001b[43mi\u001b[49m\u001b[43m,\u001b[49m\u001b[43m \u001b[49m\u001b[43mdtrain\u001b[49m\u001b[43m,\u001b[49m\u001b[43m \u001b[49m\u001b[43mevals\u001b[49m\u001b[43m)\u001b[49m:\n\u001b[1;32m    183\u001b[0m         \u001b[38;5;28;01mbreak\u001b[39;00m\n\u001b[1;32m    185\u001b[0m bst \u001b[38;5;241m=\u001b[39m cb_container\u001b[38;5;241m.\u001b[39mafter_training(bst)\n",
      "File \u001b[0;32m~/miniforge3/envs/tensorflow/lib/python3.9/site-packages/xgboost/callback.py:246\u001b[0m, in \u001b[0;36mCallbackContainer.after_iteration\u001b[0;34m(self, model, epoch, dtrain, evals)\u001b[0m\n\u001b[1;32m    244\u001b[0m     metric_score \u001b[38;5;241m=\u001b[39m [(n, \u001b[38;5;28mfloat\u001b[39m(s)) \u001b[38;5;28;01mfor\u001b[39;00m n, s \u001b[38;5;129;01min\u001b[39;00m metric_score_str]\n\u001b[1;32m    245\u001b[0m     \u001b[38;5;28mself\u001b[39m\u001b[38;5;241m.\u001b[39m_update_history(metric_score, epoch)\n\u001b[0;32m--> 246\u001b[0m ret \u001b[38;5;241m=\u001b[39m \u001b[38;5;28;43many\u001b[39;49m\u001b[43m(\u001b[49m\u001b[43mc\u001b[49m\u001b[38;5;241;43m.\u001b[39;49m\u001b[43mafter_iteration\u001b[49m\u001b[43m(\u001b[49m\u001b[43mmodel\u001b[49m\u001b[43m,\u001b[49m\u001b[43m \u001b[49m\u001b[43mepoch\u001b[49m\u001b[43m,\u001b[49m\u001b[43m \u001b[49m\u001b[38;5;28;43mself\u001b[39;49m\u001b[38;5;241;43m.\u001b[39;49m\u001b[43mhistory\u001b[49m\u001b[43m)\u001b[49m\n\u001b[1;32m    247\u001b[0m \u001b[43m          \u001b[49m\u001b[38;5;28;43;01mfor\u001b[39;49;00m\u001b[43m \u001b[49m\u001b[43mc\u001b[49m\u001b[43m \u001b[49m\u001b[38;5;129;43;01min\u001b[39;49;00m\u001b[43m \u001b[49m\u001b[38;5;28;43mself\u001b[39;49m\u001b[38;5;241;43m.\u001b[39;49m\u001b[43mcallbacks\u001b[49m\u001b[43m)\u001b[49m\n\u001b[1;32m    248\u001b[0m \u001b[38;5;28;01mreturn\u001b[39;00m ret\n",
      "File \u001b[0;32m~/miniforge3/envs/tensorflow/lib/python3.9/site-packages/xgboost/callback.py:246\u001b[0m, in \u001b[0;36m<genexpr>\u001b[0;34m(.0)\u001b[0m\n\u001b[1;32m    244\u001b[0m     metric_score \u001b[38;5;241m=\u001b[39m [(n, \u001b[38;5;28mfloat\u001b[39m(s)) \u001b[38;5;28;01mfor\u001b[39;00m n, s \u001b[38;5;129;01min\u001b[39;00m metric_score_str]\n\u001b[1;32m    245\u001b[0m     \u001b[38;5;28mself\u001b[39m\u001b[38;5;241m.\u001b[39m_update_history(metric_score, epoch)\n\u001b[0;32m--> 246\u001b[0m ret \u001b[38;5;241m=\u001b[39m \u001b[38;5;28many\u001b[39m(\u001b[43mc\u001b[49m\u001b[38;5;241;43m.\u001b[39;49m\u001b[43mafter_iteration\u001b[49m\u001b[43m(\u001b[49m\u001b[43mmodel\u001b[49m\u001b[43m,\u001b[49m\u001b[43m \u001b[49m\u001b[43mepoch\u001b[49m\u001b[43m,\u001b[49m\u001b[43m \u001b[49m\u001b[38;5;28;43mself\u001b[39;49m\u001b[38;5;241;43m.\u001b[39;49m\u001b[43mhistory\u001b[49m\u001b[43m)\u001b[49m\n\u001b[1;32m    247\u001b[0m           \u001b[38;5;28;01mfor\u001b[39;00m c \u001b[38;5;129;01min\u001b[39;00m \u001b[38;5;28mself\u001b[39m\u001b[38;5;241m.\u001b[39mcallbacks)\n\u001b[1;32m    248\u001b[0m \u001b[38;5;28;01mreturn\u001b[39;00m ret\n",
      "File \u001b[0;32m~/miniforge3/envs/tensorflow/lib/python3.9/site-packages/xgboost/callback.py:411\u001b[0m, in \u001b[0;36mEarlyStopping.after_iteration\u001b[0;34m(self, model, epoch, evals_log)\u001b[0m\n\u001b[1;32m    409\u001b[0m epoch \u001b[38;5;241m+\u001b[39m\u001b[38;5;241m=\u001b[39m \u001b[38;5;28mself\u001b[39m\u001b[38;5;241m.\u001b[39mstarting_round  \u001b[38;5;66;03m# training continuation\u001b[39;00m\n\u001b[1;32m    410\u001b[0m msg \u001b[38;5;241m=\u001b[39m \u001b[38;5;124m'\u001b[39m\u001b[38;5;124mMust have at least 1 validation dataset for early stopping.\u001b[39m\u001b[38;5;124m'\u001b[39m\n\u001b[0;32m--> 411\u001b[0m \u001b[38;5;28;01massert\u001b[39;00m \u001b[38;5;28mlen\u001b[39m(evals_log\u001b[38;5;241m.\u001b[39mkeys()) \u001b[38;5;241m>\u001b[39m\u001b[38;5;241m=\u001b[39m \u001b[38;5;241m1\u001b[39m, msg\n\u001b[1;32m    412\u001b[0m data_name \u001b[38;5;241m=\u001b[39m \u001b[38;5;124m'\u001b[39m\u001b[38;5;124m'\u001b[39m\n\u001b[1;32m    413\u001b[0m \u001b[38;5;28;01mif\u001b[39;00m \u001b[38;5;28mself\u001b[39m\u001b[38;5;241m.\u001b[39mdata:\n",
      "\u001b[0;31mAssertionError\u001b[0m: Must have at least 1 validation dataset for early stopping."
     ]
    }
   ],
   "source": [
    "from sklearn.model_selection import GridSearchCV\n",
    "grid = GridSearchCV(pipe, params, cv=8, scoring='accuracy')\n",
    "grid.fit(X_train, y_train)"
   ]
  },
  {
   "cell_type": "code",
   "execution_count": null,
   "id": "6eb849a7-bab8-46c0-8b04-f8d53869767b",
   "metadata": {},
   "outputs": [],
   "source": []
  }
 ],
 "metadata": {
  "kernelspec": {
   "display_name": "Python 3.9 (tensorflow)",
   "language": "python",
   "name": "tensorflow"
  },
  "language_info": {
   "codemirror_mode": {
    "name": "ipython",
    "version": 3
   },
   "file_extension": ".py",
   "mimetype": "text/x-python",
   "name": "python",
   "nbconvert_exporter": "python",
   "pygments_lexer": "ipython3",
   "version": "3.9.12"
  }
 },
 "nbformat": 4,
 "nbformat_minor": 5
}
